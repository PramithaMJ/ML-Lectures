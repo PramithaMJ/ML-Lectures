{
  "cells": [
    {
      "cell_type": "markdown",
      "metadata": {
        "id": "aLstkBIpeb3i"
      },
      "source": [
        "\n",
        "\n",
        "\n",
        "\n",
        "\n",
        "\n",
        "\n",
        "\n",
        "\n",
        "\n",
        "\n",
        "\n",
        "\n",
        "# KMeans Clustering Example"
      ]
    },
    {
      "cell_type": "markdown",
      "metadata": {
        "id": "20FgqjJMesxF"
      },
      "source": [
        "## Part 1: Test with a Toy Dataset"
      ]
    },
    {
      "cell_type": "markdown",
      "metadata": {
        "id": "mwCzWZvHermL"
      },
      "source": [
        "Use make_blobs function from sklearn.datasets to create isotropic Gaussian blobs for clustering.\n",
        "\n",
        "Hint: https://scikit-learn.org/stable/modules/generated/sklearn.datasets.make_blobs.html\n",
        "\n",
        "Load other necessary libraries/packages for data visualization."
      ]
    },
    {
      "cell_type": "code",
      "execution_count": 40,
      "metadata": {
        "id": "1Vf_S1_jeR96"
      },
      "outputs": [],
      "source": [
        "# Load the required libraries\n",
        "import matplotlib.pyplot as plt\n",
        "from sklearn.datasets import make_blobs\n",
        "# Your code here"
      ]
    },
    {
      "cell_type": "code",
      "execution_count": 41,
      "metadata": {
        "id": "gOAXurrWfiWu"
      },
      "outputs": [],
      "source": [
        "# Create Dataset\n",
        "X, y = make_blobs(n_samples=400, centers=5, n_features=2,random_state=0,cluster_std=0.8)\n",
        "# Your code here"
      ]
    },
    {
      "cell_type": "code",
      "execution_count": 42,
      "metadata": {
        "id": "geReJeCCf2pS"
      },
      "outputs": [
        {
          "name": "stdout",
          "output_type": "stream",
          "text": [
            "[[-1.42388860e+00  6.96823072e+00]\n",
            " [-1.84308720e+00  1.99034585e+00]\n",
            " [ 1.94896306e+00  6.59430956e-01]\n",
            " [-1.56346718e+00  3.09428839e+00]\n",
            " [ 1.96683500e+00  1.71380183e+00]\n",
            " [-3.03993902e+00  8.15665926e+00]\n",
            " [-1.76037390e+00  2.30868849e+00]\n",
            " [ 1.12938331e+00  6.47829859e-01]\n",
            " [ 2.59896830e-01  4.61330933e+00]\n",
            " [-4.07833652e-03  4.97927771e+00]\n",
            " [-1.16097153e+00  2.14619265e+00]\n",
            " [ 9.63181144e+00 -9.74224365e-01]\n",
            " [ 1.14289006e+00  5.08509856e+00]\n",
            " [ 2.28434247e+00  1.38473873e+00]\n",
            " [-9.42069831e-01  7.80806619e+00]\n",
            " [-1.67942681e+00  2.60200265e+00]\n",
            " [-2.37060678e+00  3.57408053e+00]\n",
            " [-7.07087189e-01  7.52985285e+00]\n",
            " [ 1.01287689e+00  4.15404025e+00]\n",
            " [ 1.69084152e+00  9.11646987e-01]\n",
            " [-1.48730803e+00  3.31295168e+00]\n",
            " [ 2.79632359e-01  3.84070760e+00]\n",
            " [ 1.73407165e+00  4.17977925e+00]\n",
            " [ 2.55545268e+00 -3.83982465e-01]\n",
            " [ 9.44886285e+00 -2.01671928e+00]\n",
            " [-1.77630083e+00  7.97611518e+00]\n",
            " [ 9.69649140e+00 -1.99306673e+00]\n",
            " [-2.31531260e+00  1.74041426e+00]\n",
            " [-6.24028762e-01  3.31468302e+00]\n",
            " [-2.04873889e+00  2.50093081e+00]\n",
            " [ 4.30719947e-01  2.54925795e+00]\n",
            " [ 1.47478962e+00 -2.09027504e-01]\n",
            " [ 1.29051152e+00  6.20878239e-01]\n",
            " [-9.08301631e-01  1.97077775e+00]\n",
            " [ 1.11821099e+00  3.98236258e+00]\n",
            " [ 2.88278590e+00  5.05937092e+00]\n",
            " [-8.75322634e-01  7.53926606e+00]\n",
            " [ 2.78341065e+00  1.15143823e+00]\n",
            " [-1.99238098e+00  7.69258874e+00]\n",
            " [ 8.63074210e+00 -2.70263978e+00]\n",
            " [-1.54837347e+00  6.85450306e+00]\n",
            " [-8.13606262e-01  8.18669438e+00]\n",
            " [ 8.22629910e-01  9.48273255e-01]\n",
            " [ 7.81384989e+00 -2.08828650e+00]\n",
            " [-1.74109084e+00  2.01547320e+00]\n",
            " [-3.71178298e-01  7.64808737e+00]\n",
            " [-1.42766292e+00  7.59366023e+00]\n",
            " [-2.59662095e-02  4.92577961e+00]\n",
            " [ 2.61028604e+00  7.70004909e-01]\n",
            " [ 2.79195458e+00  1.15264578e+00]\n",
            " [ 2.97713277e+00  1.76135853e+00]\n",
            " [ 2.13344750e+00  1.36402660e+00]\n",
            " [ 5.68548333e-01  3.95332789e+00]\n",
            " [-2.07717410e+00  1.94662034e+00]\n",
            " [ 1.40457611e+00 -2.75475802e-01]\n",
            " [ 8.96375853e+00 -2.73940382e+00]\n",
            " [ 9.08723467e-01  7.77632028e+00]\n",
            " [-2.19468569e-01  6.62986130e+00]\n",
            " [-3.53641041e-01  3.59992381e+00]\n",
            " [-1.90199536e+00  1.15672923e+00]\n",
            " [ 8.74808427e+00 -4.59881323e+00]\n",
            " [ 2.27488061e+00  1.84931594e-01]\n",
            " [ 8.84709298e+00 -1.45856984e+00]\n",
            " [ 7.71669274e+00 -3.06139642e+00]\n",
            " [-9.29153346e-01  1.96672630e+00]\n",
            " [ 1.73580672e+00  4.37382832e+00]\n",
            " [ 1.76097801e-01  3.06797045e+00]\n",
            " [-1.45757213e+00  7.68966419e+00]\n",
            " [-3.03152894e-01  7.32993701e+00]\n",
            " [-8.69635444e-01  2.92211638e+00]\n",
            " [-3.27888599e-01  4.67401313e+00]\n",
            " [ 2.20249345e+00  5.47927434e+00]\n",
            " [-2.93161648e+00  3.27862983e+00]\n",
            " [ 1.66781904e+00  3.71005531e+00]\n",
            " [ 9.21676794e-01  5.67446150e+00]\n",
            " [-3.14392530e+00  8.52670186e+00]\n",
            " [ 9.53771662e+00 -1.57177244e+00]\n",
            " [ 4.67593216e-01  4.84493396e+00]\n",
            " [ 7.92267119e+00 -2.42114241e+00]\n",
            " [ 5.06243677e-01  1.04868654e+00]\n",
            " [ 9.87757177e+00 -1.63724369e+00]\n",
            " [ 8.66695852e+00 -2.37123690e+00]\n",
            " [-4.20727866e-01  7.03848990e+00]\n",
            " [ 2.03580662e+00  3.07238933e-01]\n",
            " [ 8.52706248e+00 -3.34162430e+00]\n",
            " [ 2.56737274e+00 -3.95901176e-01]\n",
            " [-3.33135540e+00  2.09987679e+00]\n",
            " [ 9.63524648e+00 -2.25285271e+00]\n",
            " [-8.31733224e-01  3.13937979e+00]\n",
            " [ 1.09150494e+00  5.46720613e+00]\n",
            " [ 8.64231981e+00 -1.45545892e+00]\n",
            " [ 1.92913391e+00  2.70304246e+00]\n",
            " [ 1.77207239e+00 -2.02297375e-01]\n",
            " [-3.65424180e+00  3.40293788e+00]\n",
            " [ 2.46012298e-01  5.19740036e+00]\n",
            " [-1.44187164e+00  9.05006895e+00]\n",
            " [ 1.02098199e+00  1.11130436e+00]\n",
            " [-1.59564863e+00  3.07331661e+00]\n",
            " [ 3.77713545e-02  5.85868428e+00]\n",
            " [-1.06918092e+00  8.09915840e+00]\n",
            " [ 7.66988264e+00 -2.02966841e+00]\n",
            " [-1.89275698e+00  6.94081048e+00]\n",
            " [-1.11711292e+00  7.91251710e+00]\n",
            " [-1.98235366e+00  3.13380575e+00]\n",
            " [ 1.55954253e+00  4.40697366e+00]\n",
            " [-2.59323035e+00  7.12428293e+00]\n",
            " [-1.77509815e+00  7.42407284e+00]\n",
            " [-1.05456141e+00  7.12448381e+00]\n",
            " [ 1.07779975e+00  4.62537882e+00]\n",
            " [-5.32047556e-01  8.93543127e+00]\n",
            " [ 2.00596640e+00  8.11819439e-01]\n",
            " [ 1.53334066e+00  5.84900960e-01]\n",
            " [ 1.04021929e+01 -1.70252656e+00]\n",
            " [-1.72878182e+00  9.07725456e+00]\n",
            " [-2.19158212e+00  8.87660247e+00]\n",
            " [-7.64558499e-02  3.93451964e+00]\n",
            " [ 4.20615791e-01  4.18407970e+00]\n",
            " [ 9.30506860e+00 -3.58476539e+00]\n",
            " [ 1.41253979e+00  3.46023838e-01]\n",
            " [ 1.02948386e+00  4.54576485e+00]\n",
            " [ 9.42039561e+00 -2.63956143e+00]\n",
            " [-2.68413177e+00  3.55812062e+00]\n",
            " [ 9.84924219e+00 -3.21349459e+00]\n",
            " [ 8.33115204e+00 -3.24332666e+00]\n",
            " [-2.37302611e+00  7.36341390e+00]\n",
            " [-2.06268927e+00  7.77317621e+00]\n",
            " [ 1.51410588e+00  4.62975680e+00]\n",
            " [-2.25391461e+00  2.57842816e+00]\n",
            " [ 7.88916804e-01  1.38596716e+00]\n",
            " [-3.35780005e+00  3.11906979e+00]\n",
            " [-2.16009774e+00  8.46342603e+00]\n",
            " [ 9.87860744e-01 -1.79710345e-01]\n",
            " [ 1.07529282e+01 -2.50250295e+00]\n",
            " [ 8.83668563e+00 -3.83883830e+00]\n",
            " [ 1.01004604e+00  2.22416820e+00]\n",
            " [-7.81425314e-01  3.18985425e+00]\n",
            " [ 1.50162764e+00  2.12676530e+00]\n",
            " [ 1.04647400e+01 -1.91412662e+00]\n",
            " [ 3.60337219e-01  4.73518668e+00]\n",
            " [-8.85230245e-01  6.37166769e+00]\n",
            " [-2.32659611e+00  7.22620131e+00]\n",
            " [ 8.91221278e+00 -2.11861924e+00]\n",
            " [-1.87825563e+00  3.06295300e+00]\n",
            " [ 2.17153334e+00  4.13966072e+00]\n",
            " [-1.35378269e+00  8.15926947e+00]\n",
            " [ 9.21943472e+00 -3.38588632e+00]\n",
            " [ 1.96050262e+00  5.26569121e+00]\n",
            " [-2.64214073e+00  6.79286581e+00]\n",
            " [-1.36746386e+00  2.87739943e+00]\n",
            " [-3.88746074e-01  5.86440764e+00]\n",
            " [-1.21865120e+00  8.44978194e+00]\n",
            " [ 3.60749570e-01  7.79978367e+00]\n",
            " [ 8.58607730e+00 -3.05032335e+00]\n",
            " [ 8.80013308e+00 -1.43163428e+00]\n",
            " [-1.69170348e+00  7.45894989e+00]\n",
            " [ 1.33136066e+00  4.57072679e+00]\n",
            " [ 7.99178637e+00 -3.04091438e+00]\n",
            " [ 1.13032158e+00  1.52262214e+00]\n",
            " [-2.27200711e+00  7.36711505e+00]\n",
            " [ 9.72446204e+00 -3.35881146e+00]\n",
            " [ 2.67269996e+00  1.55646698e+00]\n",
            " [-1.49599957e+00  1.59251018e+00]\n",
            " [ 5.82951566e-02  3.95353129e+00]\n",
            " [ 9.52698371e+00 -1.91513713e+00]\n",
            " [-2.48859925e+00  8.16931507e+00]\n",
            " [-2.07411273e+00  4.24552290e+00]\n",
            " [ 3.86271468e+00  8.63857939e-01]\n",
            " [ 2.60712205e+00  1.93914064e+00]\n",
            " [-1.09220002e+00  6.41020973e+00]\n",
            " [ 9.50277880e+00 -4.18764504e+00]\n",
            " [ 7.27028053e-01  4.34871960e+00]\n",
            " [ 8.86724113e+00 -3.17267371e+00]\n",
            " [ 8.71619389e+00 -2.56348730e+00]\n",
            " [-4.71594512e-01  2.21194721e+00]\n",
            " [-1.15639975e+00  3.14115887e+00]\n",
            " [-1.79809500e+00  7.74148038e+00]\n",
            " [-2.29530752e+00  2.28338837e+00]\n",
            " [-2.07220400e+00  7.55550532e+00]\n",
            " [ 1.57741467e+00  7.07326276e-01]\n",
            " [-1.67494695e+00  2.27176347e+00]\n",
            " [ 9.22727960e+00 -2.64414327e+00]\n",
            " [ 8.97669201e+00 -3.08766226e+00]\n",
            " [ 1.00224118e+01 -2.35924576e+00]\n",
            " [-9.68138294e-01  2.92089897e+00]\n",
            " [-1.56216697e+00  5.39854557e+00]\n",
            " [-3.00135965e+00  2.53550306e+00]\n",
            " [-1.77419557e+00  2.73110893e+00]\n",
            " [-8.53599002e-01  2.71831540e+00]\n",
            " [-1.63098958e+00  2.99304484e+00]\n",
            " [ 4.36803950e-01  4.32925177e+00]\n",
            " [-8.36827204e-01  7.93386987e-01]\n",
            " [ 4.41502059e-02  5.02444852e+00]\n",
            " [ 8.99625565e+00 -2.96687868e+00]\n",
            " [ 6.66408625e-01  4.06194513e+00]\n",
            " [-7.76351918e-01  7.54437297e+00]\n",
            " [-1.41057325e+00  7.74755379e+00]\n",
            " [ 2.79207378e+00  3.14029479e+00]\n",
            " [ 9.25451673e+00 -1.46781384e+00]\n",
            " [-2.00582716e+00  2.02516467e+00]\n",
            " [ 2.58837399e+00  5.29087830e-01]\n",
            " [-1.92915737e+00  4.84784520e+00]\n",
            " [ 6.97940359e-01  4.42886650e+00]\n",
            " [ 2.47031725e+00  5.02862305e+00]\n",
            " [-1.02083204e+00  9.22959504e+00]\n",
            " [ 4.38301720e-01  4.01614480e+00]\n",
            " [ 1.34880003e+00  3.07479238e+00]\n",
            " [ 8.87404190e+00 -2.31408864e+00]\n",
            " [-3.14002932e+00  2.48631855e+00]\n",
            " [ 2.16883005e+00  6.42200926e-01]\n",
            " [ 9.45374213e+00 -1.97139994e+00]\n",
            " [-5.91998337e-01  8.92341885e+00]\n",
            " [ 1.94650776e+00  1.80717675e+00]\n",
            " [-1.80964941e+00  1.62470291e+00]\n",
            " [ 1.21486062e+00  5.36489604e+00]\n",
            " [ 2.66041480e-01  2.71915015e+00]\n",
            " [-9.09779254e-01  3.74143332e+00]\n",
            " [ 1.68439074e+00  1.28284884e+00]\n",
            " [-1.81865885e+00  3.04324535e+00]\n",
            " [-2.22260658e+00  7.59148911e+00]\n",
            " [ 2.16687183e+00  5.82049867e+00]\n",
            " [ 9.18978042e+00 -3.12157118e+00]\n",
            " [-1.10158442e+00  9.17221444e+00]\n",
            " [ 1.43754273e+00  4.13714832e+00]\n",
            " [ 8.18543063e+00 -2.36429027e+00]\n",
            " [-1.25578071e+00  4.53471711e+00]\n",
            " [ 5.67625968e-01  3.35928158e+00]\n",
            " [ 2.74073201e+00  3.76843185e-01]\n",
            " [ 1.74736367e+00  9.73144931e-01]\n",
            " [-4.35278535e-01  2.36632291e+00]\n",
            " [ 1.02853175e+01 -2.16197201e+00]\n",
            " [ 1.80805715e+00 -4.43139385e-01]\n",
            " [ 5.77844118e-01  5.84741297e+00]\n",
            " [-1.24135346e+00  8.25706338e+00]\n",
            " [ 2.68432989e+00  5.24528383e-01]\n",
            " [ 8.55533447e+00 -1.28119333e+00]\n",
            " [ 2.04165119e+00  1.20098505e+00]\n",
            " [ 1.26136320e+00  4.86904586e+00]\n",
            " [-1.61129901e+00  8.15807165e+00]\n",
            " [ 9.19189739e+00 -2.31574612e+00]\n",
            " [-2.55436340e+00  6.58124584e+00]\n",
            " [-1.55597211e+00  7.48039114e+00]\n",
            " [ 3.89840088e+00  4.96510018e-02]\n",
            " [ 8.86896856e+00 -2.98380286e+00]\n",
            " [ 9.84670095e-01  5.73248372e+00]\n",
            " [-1.83149150e+00  7.99270594e+00]\n",
            " [ 4.68812404e-01  4.01359439e+00]\n",
            " [-1.40727064e-01  3.46548315e+00]\n",
            " [ 1.10022802e+00  4.60631734e+00]\n",
            " [ 1.27741050e+00  3.42426669e+00]\n",
            " [ 9.26136905e+00 -1.67404487e+00]\n",
            " [ 9.89141108e+00 -3.66044826e+00]\n",
            " [ 2.39627451e+00  1.43919009e+00]\n",
            " [-4.98861804e-01  8.96532218e+00]\n",
            " [ 1.80655858e+00  9.75583793e-01]\n",
            " [ 8.97508059e-01  3.77300470e+00]\n",
            " [-1.90038045e+00  1.78435737e+00]\n",
            " [ 9.43162904e+00 -1.46562145e+00]\n",
            " [ 3.25753053e-01  2.92276125e+00]\n",
            " [ 2.27920720e+00  8.19143348e-01]\n",
            " [-8.26237804e-01  2.82579629e+00]\n",
            " [ 1.94830627e+00  1.75985870e+00]\n",
            " [ 1.19667981e-01  5.14734871e+00]\n",
            " [-2.68359323e-01  7.88734490e+00]\n",
            " [ 1.10960887e+00  4.81181248e+00]\n",
            " [-1.30255065e+00  2.12338337e+00]\n",
            " [ 8.66069345e+00 -1.88654005e+00]\n",
            " [ 1.37427706e-01  3.16777298e+00]\n",
            " [-3.20258647e+00  3.01685979e+00]\n",
            " [-1.94091925e+00  2.13481837e+00]\n",
            " [-1.35805871e-01  3.71339777e+00]\n",
            " [ 9.24464075e+00 -4.26573343e-01]\n",
            " [ 1.87757882e+00  3.43984212e+00]\n",
            " [-1.06612177e+00  4.82668220e+00]\n",
            " [ 6.28147237e-01  5.78319831e+00]\n",
            " [ 3.80466221e-01  3.64263650e+00]\n",
            " [ 2.02384127e+00 -3.68111383e-02]\n",
            " [ 2.18047275e+00  1.08340849e+00]\n",
            " [ 1.75992205e+00  7.06160318e-01]\n",
            " [ 2.47388885e+00  7.60426595e-01]\n",
            " [-1.29316219e+00  7.83435198e+00]\n",
            " [-1.42181543e+00  8.19177462e+00]\n",
            " [ 3.61999737e+00  1.20973832e+00]\n",
            " [-9.64449620e-01  8.32896926e+00]\n",
            " [ 2.93499520e+00  1.42187464e+00]\n",
            " [ 2.45026094e+00  8.04780509e-01]\n",
            " [-2.88538867e+00  3.22770664e+00]\n",
            " [ 1.73570830e+00  1.19370837e+00]\n",
            " [ 8.53796445e+00 -2.17696654e+00]\n",
            " [-1.06408682e+00  3.19760583e+00]\n",
            " [-9.13573468e-01  3.20291652e+00]\n",
            " [ 8.11730305e+00 -3.29960402e+00]\n",
            " [ 1.03354814e+01 -2.41219481e+00]\n",
            " [ 7.96731657e+00 -2.38487695e+00]\n",
            " [-2.94173477e+00  3.20226770e+00]\n",
            " [-3.14848199e-01  4.13359510e+00]\n",
            " [ 1.57821629e+00  8.55609823e-01]\n",
            " [ 9.67169713e+00 -2.35212341e+00]\n",
            " [ 1.46753357e+00  5.04155266e+00]\n",
            " [-2.08396067e-01  3.04926447e+00]\n",
            " [-1.52621630e+00  7.37044523e+00]\n",
            " [ 1.29307545e+00  3.42933812e+00]\n",
            " [ 1.54531790e+00  5.79846208e-01]\n",
            " [-1.07747174e+00  6.86860109e+00]\n",
            " [ 1.58510026e+00  4.40112734e+00]\n",
            " [ 1.47958401e+00  2.47269269e-01]\n",
            " [ 3.25085516e+00 -7.58324360e-01]\n",
            " [ 1.92669391e+00  4.55734142e+00]\n",
            " [-3.16241547e-01  3.36038791e+00]\n",
            " [ 8.52206995e+00 -1.51755283e+00]\n",
            " [-1.98265959e+00  8.03745732e+00]\n",
            " [ 1.22787325e+00  1.44293927e+00]\n",
            " [ 1.09666880e+01 -3.61987235e+00]\n",
            " [ 1.15380687e+00  3.13121458e-01]\n",
            " [ 1.29971052e+00  5.69623905e-01]\n",
            " [ 1.29814339e+00  3.75593925e+00]\n",
            " [ 9.76279696e+00 -3.40436700e+00]\n",
            " [ 9.92339444e+00 -1.86136212e+00]\n",
            " [-1.53944970e+00  3.04662480e+00]\n",
            " [ 2.60849852e+00  1.45346297e+00]\n",
            " [ 2.48279064e+00  3.22558008e+00]\n",
            " [ 1.06772441e+01 -2.43756036e+00]\n",
            " [ 6.45374894e-01  3.70582348e+00]\n",
            " [-8.40564874e-01  3.83076375e+00]\n",
            " [ 1.91929374e+00  4.15984746e+00]\n",
            " [-1.87964212e+00  2.69359787e+00]\n",
            " [ 8.70931813e+00 -1.78718975e+00]\n",
            " [-3.13959483e+00  7.85172736e+00]\n",
            " [-2.30378767e+00  3.16973602e+00]\n",
            " [ 1.21906483e+00  1.86657989e+00]\n",
            " [-1.33664730e+00  6.50690017e+00]\n",
            " [ 7.61867382e-01  4.94575244e+00]\n",
            " [-1.35309898e+00  8.74192392e+00]\n",
            " [-2.80969906e+00  7.30754663e+00]\n",
            " [ 8.07133795e+00 -3.75330319e+00]\n",
            " [-2.00375057e+00  8.02594253e+00]\n",
            " [-1.32056138e+00  8.92953781e+00]\n",
            " [ 1.49150730e+00  1.65227224e+00]\n",
            " [-1.62428208e+00  7.66207484e+00]\n",
            " [-4.25107381e-01  7.77763041e+00]\n",
            " [ 1.55279747e+00  5.12841965e-01]\n",
            " [ 9.33292434e+00 -3.19284888e+00]\n",
            " [ 1.46361712e+00  2.13207534e+00]\n",
            " [-2.31402510e+00  6.26056026e+00]\n",
            " [-4.01179202e-02  5.07930469e+00]\n",
            " [-1.42634032e+00  7.10499664e+00]\n",
            " [-1.07307179e+00  2.73974218e+00]\n",
            " [ 1.54037280e+00 -8.81058862e-01]\n",
            " [-8.75288155e-01  2.96502273e+00]\n",
            " [ 9.28153466e+00 -1.75514262e+00]\n",
            " [-1.69242695e+00  3.62202539e+00]\n",
            " [ 2.47438034e+00  9.68401330e-01]\n",
            " [ 2.47211942e+00  4.37033284e-01]\n",
            " [ 1.10418012e+00  4.92210576e-01]\n",
            " [ 1.12710155e+01 -4.12742694e+00]\n",
            " [ 2.37450460e+00 -1.32041055e+00]\n",
            " [-8.49303555e-01  8.67383774e+00]\n",
            " [-1.01225244e+00  1.66138353e+00]\n",
            " [-1.15613748e+00  7.53214197e+00]\n",
            " [ 9.16018794e-01  5.03007753e-01]\n",
            " [ 9.53724296e-01  4.64645282e+00]\n",
            " [ 9.85173561e+00 -2.31147992e+00]\n",
            " [-1.23024401e+00  3.03153171e+00]\n",
            " [ 2.02153036e+00  6.68153906e-01]\n",
            " [-2.13821915e+00  1.76764908e+00]\n",
            " [ 2.50431387e-01  4.34534364e+00]\n",
            " [-4.94281279e-01  7.62138422e+00]\n",
            " [-8.86452170e-01  2.98049040e+00]\n",
            " [ 9.80971157e+00 -2.89717418e+00]\n",
            " [ 1.00259893e+01 -2.00700636e+00]\n",
            " [ 1.04116420e+01 -2.01430036e+00]\n",
            " [-3.68028304e-01  8.87387759e+00]\n",
            " [ 6.53728521e-01  5.28174338e+00]\n",
            " [-1.91062866e+00  3.41416890e+00]\n",
            " [ 1.22672424e+00  3.62051074e+00]\n",
            " [-3.10908125e-01  4.29355371e+00]\n",
            " [-6.72096494e-01  2.55517362e+00]\n",
            " [-2.15300734e+00  2.82957082e+00]\n",
            " [ 8.98121104e+00 -3.76423166e+00]\n",
            " [-1.79067640e+00  8.87373665e+00]\n",
            " [ 1.17176085e+00  9.39395723e-01]\n",
            " [-2.16735996e-01  4.65530069e+00]\n",
            " [-7.72467143e-01  7.26140528e-01]\n",
            " [-7.64159707e-01  8.55190480e+00]\n",
            " [ 3.78585628e+00  1.96688602e+00]\n",
            " [ 8.91472292e+00 -2.85063997e+00]\n",
            " [ 1.00906877e+01 -2.77320216e+00]\n",
            " [-1.74744044e+00  2.35009989e+00]\n",
            " [ 1.62097834e+00  1.23050370e+00]\n",
            " [-3.85697932e-01  5.78811228e+00]\n",
            " [ 8.93352457e+00 -2.99514130e+00]\n",
            " [ 1.88779063e+00  3.31592667e+00]\n",
            " [ 2.51462370e+00  5.48819916e+00]\n",
            " [ 2.87289531e-01  5.83183929e+00]\n",
            " [-7.83299924e-01  3.38366193e+00]\n",
            " [ 1.96073629e+00  3.53521097e-01]\n",
            " [ 9.65477391e+00 -2.21240996e+00]\n",
            " [ 9.22638597e+00 -2.58520410e+00]\n",
            " [ 8.52702398e+00 -1.33651412e+00]\n",
            " [-9.66831686e-01  8.13884844e+00]\n",
            " [ 9.46111243e+00 -6.25446895e-01]]\n"
          ]
        }
      ],
      "source": [
        "# Print the generated data (features)\n",
        "print(X)\n",
        "# Your code here"
      ]
    },
    {
      "cell_type": "code",
      "execution_count": 43,
      "metadata": {
        "id": "6QZc7lZOgE7-"
      },
      "outputs": [
        {
          "name": "stdout",
          "output_type": "stream",
          "text": [
            "[3 2 1 2 1 3 2 1 0 0 2 4 0 1 3 2 2 3 0 1 2 0 0 1 4 3 4 2 2 2 1 1 1 2 0 0 3\n",
            " 1 3 4 3 3 1 4 2 3 3 0 1 1 1 1 0 2 1 4 3 3 2 2 4 1 4 4 2 0 0 3 3 2 0 0 2 0\n",
            " 0 3 4 0 4 1 4 4 3 1 4 1 2 4 2 0 4 1 1 2 0 3 1 2 0 3 4 3 3 2 0 3 3 3 0 3 1\n",
            " 1 4 3 3 0 0 4 1 0 4 2 4 4 3 3 0 2 1 2 3 1 4 4 1 2 1 4 0 3 3 4 2 0 3 4 0 3\n",
            " 2 0 3 3 4 4 3 0 4 1 3 4 1 2 0 4 3 2 1 1 3 4 0 4 4 2 2 3 2 3 1 2 4 4 4 2 3\n",
            " 2 2 2 2 0 2 0 4 0 3 3 0 4 2 1 2 0 0 3 0 0 4 2 1 4 3 1 2 0 0 2 1 2 3 0 4 3\n",
            " 0 4 2 0 1 1 2 4 1 0 3 1 4 1 0 3 4 3 3 1 4 0 3 0 2 0 0 4 4 1 3 1 0 2 4 0 1\n",
            " 2 1 0 3 0 2 4 0 2 2 2 4 0 0 0 0 1 1 1 1 3 3 1 3 1 1 2 1 4 2 2 4 4 4 2 0 1\n",
            " 4 0 2 3 0 1 3 0 1 1 0 2 4 3 1 4 1 1 0 4 4 2 1 0 4 0 2 0 2 4 3 2 1 3 0 3 3\n",
            " 4 3 3 1 3 3 1 4 1 3 0 3 2 1 2 4 2 1 1 1 4 1 3 2 3 1 0 4 2 1 2 0 3 2 4 4 4\n",
            " 3 0 2 0 2 2 2 4 3 1 0 2 3 1 4 4 2 1 3 4 0 0 0 2 1 4 4 4 3 4]\n"
          ]
        }
      ],
      "source": [
        "# Print the generated labels\n",
        "print(y)\n",
        "# Your code here"
      ]
    },
    {
      "cell_type": "code",
      "execution_count": 44,
      "metadata": {
        "id": "d8-GvgX8gO6H"
      },
      "outputs": [
        {
          "data": {
            "text/plain": [
              "<matplotlib.collections.PathCollection at 0x1f035e18b50>"
            ]
          },
          "execution_count": 44,
          "metadata": {},
          "output_type": "execute_result"
        },
        {
          "data": {
            "image/png": "[encoded data removed]",
            "text/plain": [
              "<Figure size 640x480 with 1 Axes>"
            ]
          },
          "metadata": {},
          "output_type": "display_data"
        }
      ],
      "source": [
        "# Plot the generated dataset\n",
        "\n",
        "plt.scatter(X[:,0], X[:,1], c=y)\n",
        "\n",
        "# Your code here"
      ]
    },
    {
      "cell_type": "markdown",
      "metadata": {
        "id": "r8v2Kjgui_e_"
      },
      "source": [
        "## KMeans Model Implementation"
      ]
    },
    {
      "cell_type": "markdown",
      "metadata": {
        "id": "D_iTv8L5jIwX"
      },
      "source": [
        "Cluster the dataset that you have generated using functionalities provided in Scikit-Learn library.\n",
        "\n",
        "Hint: https://scikit-learn.org/stable/modules/generated/sklearn.cluster.KMeans.html\n",
        "\n",
        "Have a look at the parameters that provided with the KMeans models.\n",
        "\n"
      ]
    },
    {
      "cell_type": "code",
      "execution_count": 45,
      "metadata": {
        "id": "u4ZxIBuYgg21"
      },
      "outputs": [
        {
          "name": "stderr",
          "output_type": "stream",
          "text": [
            "c:\\Users\\DELL\\anaconda3\\lib\\site-packages\\sklearn\\cluster\\_kmeans.py:1382: UserWarning: KMeans is known to have a memory leak on Windows with MKL, when there are less chunks than available threads. You can avoid it by setting the environment variable OMP_NUM_THREADS=2.\n",
            "  warnings.warn(\n"
          ]
        }
      ],
      "source": [
        "# Implement the model\n",
        "from sklearn.cluster import KMeans\n",
        "kmeans = KMeans(n_clusters=5,init='random',n_init=10,max_iter=400,tol=1e-04, random_state=0).fit(X)\n",
        "# Your code here"
      ]
    },
    {
      "cell_type": "code",
      "execution_count": 46,
      "metadata": {
        "id": "pEt_7KxXkl8x"
      },
      "outputs": [
        {
          "data": {
            "text/plain": [
              "<matplotlib.collections.PathCollection at 0x1f035ea41c0>"
            ]
          },
          "execution_count": 46,
          "metadata": {},
          "output_type": "execute_result"
        },
        {
          "data": {
            "image/png": "[encoded data removed]",
            "text/plain": [
              "<Figure size 640x480 with 1 Axes>"
            ]
          },
          "metadata": {},
          "output_type": "display_data"
        }
      ],
      "source": [
        "# Visualize the detected clusters and cluster centers using matplotlib\n",
        "plt.scatter(X[:,0], X[:,1], c=y)\n",
        "# plot the centroids\n",
        "plt.scatter(kmeans.cluster_centers_[:, 0], kmeans.cluster_centers_[:, 1], c='red', marker='x')\n",
        "\n",
        "# Your code here\n"
      ]
    },
    {
      "cell_type": "markdown",
      "metadata": {
        "id": "q14QiDltm4eQ"
      },
      "source": [
        "## Find the Optimal Number of Clusters"
      ]
    },
    {
      "cell_type": "markdown",
      "metadata": {
        "id": "a6Qgu2zCnE1_"
      },
      "source": [
        "### Elbow Method\n",
        "\n",
        "Try to implement KNN Clustering models for different number of clusters (e.g, 1 to 10) and calculated the \"Sum of Squared Distances (SSD)\" of the samples to their closest cluster center\n",
        "\n",
        "Hint: try **inertia_** attribute provided with k-means package."
      ]
    },
    {
      "cell_type": "code",
      "execution_count": 47,
      "metadata": {
        "id": "b-qcKKUsmVLD"
      },
      "outputs": [],
      "source": [
        "# Perfom the elbow method to identify best number of clusters (k)\n",
        "\n",
        "# Visualize SSD values under each case\n",
        "\n",
        "\n",
        "# Your code here"
      ]
    },
    {
      "cell_type": "markdown",
      "metadata": {
        "id": "VJmzSqTo8OKO"
      },
      "source": [
        "**Q: What is the number of cluster you will use for the based on the observations in the aforementioned part?**\n",
        "\n",
        "A:"
      ]
    },
    {
      "cell_type": "markdown",
      "metadata": {
        "id": "39y4C0cdo1l9"
      },
      "source": [
        "## Example with Practical Dataset"
      ]
    },
    {
      "cell_type": "markdown",
      "metadata": {
        "id": "jBUrb_P3pSft"
      },
      "source": [
        "Download Califonid Housing Dataset from Kaggle using the following link.\n",
        "\n",
        "Dataset Link: https://www.kaggle.com/datasets/camnugent/california-housing-prices?resource=download\n",
        "\n",
        "Add the data into your runtime in Google Colab or provide the path if you are using Jupyter Notebook in your PC.\n",
        "\n",
        "Load only three data features as follows,\n",
        "\n",
        "* longitude: A value representing how far west a house is. Higher values represent houses that are further West.\n",
        "* latitude: A value representing how far north a house is. Higher values represent houses that are further north.\n",
        "* median_house_value: The median house price within a block measured in USD."
      ]
    },
    {
      "cell_type": "code",
      "execution_count": 48,
      "metadata": {
        "id": "_-nfVTRMo7Sm"
      },
      "outputs": [],
      "source": [
        "# load the dataset as a pandas dataframe\n",
        "# Load only the following features:\n",
        "#       'longitude', 'latitude', 'median_house_value'\n",
        "\n",
        "# Your code here"
      ]
    },
    {
      "cell_type": "markdown",
      "metadata": {
        "id": "yH5w5oxkrfox"
      },
      "source": [
        "## Data Visualization\n",
        "\n",
        "Hint: Use Seaborn Scatter plot with hue = 'median_house_value' to plot the data.\n",
        "https://seaborn.pydata.org/generated/seaborn.scatterplot.html"
      ]
    },
    {
      "cell_type": "code",
      "execution_count": 49,
      "metadata": {
        "id": "EqSy3bDAqQef"
      },
      "outputs": [],
      "source": [
        "# Use seaborn to visualize data\n",
        "\n",
        "# Your code here"
      ]
    },
    {
      "cell_type": "markdown",
      "metadata": {
        "id": "aTemZnmYsKja"
      },
      "source": [
        "## Data Preprocessing\n",
        "\n",
        "* Train/Test split the data\n",
        "* Scale the data\n",
        "\n",
        "Using scikit-learn functionalities."
      ]
    },
    {
      "cell_type": "code",
      "execution_count": 50,
      "metadata": {
        "id": "6ogrMCMisFa6"
      },
      "outputs": [],
      "source": [
        "# Train / Test Split\n",
        "\n",
        "# Your code here"
      ]
    },
    {
      "cell_type": "code",
      "execution_count": 51,
      "metadata": {
        "id": "-Ce90Ifjso3j"
      },
      "outputs": [],
      "source": [
        "# Scale\n",
        "\n",
        "# Your code here"
      ]
    },
    {
      "cell_type": "markdown",
      "metadata": {
        "id": "yweeS8b9tbcC"
      },
      "source": [
        "## Implement the Model"
      ]
    },
    {
      "cell_type": "code",
      "execution_count": 52,
      "metadata": {
        "id": "AVOYS9setDIO"
      },
      "outputs": [],
      "source": [
        "# Model Implementation\n",
        "# Use k = 3 for the time being\n",
        "\n",
        "# Your code here"
      ]
    },
    {
      "cell_type": "code",
      "execution_count": 53,
      "metadata": {
        "id": "VPt0bXWytfWz"
      },
      "outputs": [],
      "source": [
        "# Display the Clusters using seaborn\n",
        "\n",
        "# Your code here"
      ]
    },
    {
      "cell_type": "code",
      "execution_count": 54,
      "metadata": {
        "id": "UVG2Q6UItv_Z"
      },
      "outputs": [],
      "source": [
        "# Use Seaborn Boxplots to visualize cluster distribution\n",
        "\n",
        "# Your code here"
      ]
    },
    {
      "cell_type": "markdown",
      "metadata": {
        "id": "W76bKMmeuKsM"
      },
      "source": [
        "## Calculate the Model Peformance\n",
        "\n",
        "Hint: https://scikit-learn.org/stable/modules/generated/sklearn.metrics.silhouette_score.html\n",
        "\n",
        "Silhouette Score: The best value is 1 and the worst value is -1. Values near 0 indicate overlapping clusters. Negative values generally indicate that a sample has been assigned to the wrong cluster, as a different cluster is more similar."
      ]
    },
    {
      "cell_type": "code",
      "execution_count": 55,
      "metadata": {
        "id": "35be8RoHuIQb"
      },
      "outputs": [],
      "source": [
        "# Calculate the silhouette score\n",
        "\n",
        "# Your code here"
      ]
    },
    {
      "cell_type": "markdown",
      "metadata": {
        "id": "rDTtG4Rpuw6s"
      },
      "source": [
        "### Selection of Best Number of Clusters."
      ]
    },
    {
      "cell_type": "code",
      "execution_count": 56,
      "metadata": {
        "id": "uGfqLBgSukVs"
      },
      "outputs": [],
      "source": [
        "# Use Elbow Method to Select the best number of clusters for the problem\n",
        "\n",
        "# Your code here"
      ]
    },
    {
      "cell_type": "code",
      "execution_count": 57,
      "metadata": {
        "id": "t-bpjYYdvOMz"
      },
      "outputs": [],
      "source": [
        "# Display the outcome of the elbow method using matplotlib plot\n",
        "\n",
        "# Your code here"
      ]
    },
    {
      "cell_type": "code",
      "execution_count": 58,
      "metadata": {
        "id": "zIw9iE43vSGj"
      },
      "outputs": [],
      "source": [
        "# Use the selcted k to train a new model\n",
        "# Model Implementation\n",
        "\n",
        "# Your code here"
      ]
    },
    {
      "cell_type": "code",
      "execution_count": 59,
      "metadata": {
        "id": "HPoZ7SWLvfyA"
      },
      "outputs": [],
      "source": [
        "# Calculate the Silhoutte Score\n",
        "\n",
        "# Your code here"
      ]
    },
    {
      "cell_type": "markdown",
      "metadata": {
        "id": "D6oo7h9N9BCk"
      },
      "source": [
        "**Q: Have you noticed an improvement of the Silhoutte Score?**"
      ]
    },
    {
      "cell_type": "code",
      "execution_count": 60,
      "metadata": {
        "id": "AMxfxVP9w1Lx"
      },
      "outputs": [],
      "source": [
        "# Display the Clusters using seaborn\n",
        "\n",
        "# Your code here"
      ]
    }
  ],
  "metadata": {
    "colab": {
      "provenance": []
    },
    "kernelspec": {
      "display_name": "Python 3",
      "name": "python3"
    },
    "language_info": {
      "codemirror_mode": {
        "name": "ipython",
        "version": 3
      },
      "file_extension": ".py",
      "mimetype": "text/x-python",
      "name": "python",
      "nbconvert_exporter": "python",
      "pygments_lexer": "ipython3",
      "version": "3.10.9"
    }
  },
  "nbformat": 4,
  "nbformat_minor": 0
}
