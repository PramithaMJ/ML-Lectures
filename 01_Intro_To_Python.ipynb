{
  "nbformat": 4,
  "nbformat_minor": 0,
  "metadata": {
    "colab": {
      "provenance": [],
      "authorship_tag": "ABX9TyOlR5t8L6gTYG38gkVRNzUE",
      "include_colab_link": true
    },
    "kernelspec": {
      "name": "python3",
      "display_name": "Python 3"
    },
    "language_info": {
      "name": "python"
    }
  },
  "cells": [
    {
      "cell_type": "markdown",
      "metadata": {
        "id": "view-in-github",
        "colab_type": "text"
      },
      "source": [
        "<a href=\"https://colab.research.google.com/github/TheTharz/ML-Lectures/blob/main/01_Intro_To_Python.ipynb\" target=\"_parent\"><img src=\"https://colab.research.google.com/assets/colab-badge.svg\" alt=\"Open In Colab\"/></a>"
      ]
    },
    {
      "cell_type": "markdown",
      "source": [
        "#Input and Output\n"
      ],
      "metadata": {
        "id": "TNczuhRHLyoH"
      }
    },
    {
      "cell_type": "markdown",
      "source": [
        "Hello World"
      ],
      "metadata": {
        "id": "b9GrugokL4cC"
      }
    },
    {
      "cell_type": "code",
      "source": [
        "print(\"Hello World\")\n"
      ],
      "metadata": {
        "colab": {
          "base_uri": "https://localhost:8080/"
        },
        "id": "KMMgc7EJKZHM",
        "outputId": "be6651bf-80a9-46c6-b087-371fc873ef8f"
      },
      "execution_count": null,
      "outputs": [
        {
          "output_type": "stream",
          "name": "stdout",
          "text": [
            "Hello World\n"
          ]
        }
      ]
    },
    {
      "cell_type": "markdown",
      "source": [
        "Some more Output"
      ],
      "metadata": {
        "id": "gZQyXBkRMZf5"
      }
    },
    {
      "cell_type": "code",
      "source": [
        "print(2+5)"
      ],
      "metadata": {
        "colab": {
          "base_uri": "https://localhost:8080/"
        },
        "id": "bwVIwHb1L7_z",
        "outputId": "011d6256-ecd3-49f4-f83d-c7d9cc0c970c"
      },
      "execution_count": null,
      "outputs": [
        {
          "output_type": "stream",
          "name": "stdout",
          "text": [
            "7\n"
          ]
        }
      ]
    },
    {
      "cell_type": "markdown",
      "source": [
        "#Variables"
      ],
      "metadata": {
        "id": "Fb7FUZcIMt_l"
      }
    },
    {
      "cell_type": "markdown",
      "source": [
        "Assigning variable"
      ],
      "metadata": {
        "id": "wOatWuecNett"
      }
    },
    {
      "cell_type": "code",
      "source": [
        "five = 5\n",
        "one = 1\n",
        "print(five)\n",
        "print(one + one)\n",
        "message = \"This is a string\"\n",
        "print(message)"
      ],
      "metadata": {
        "colab": {
          "base_uri": "https://localhost:8080/"
        },
        "id": "_oPd8oidMefH",
        "outputId": "77cc497c-4279-4f19-a2fc-521819dab0ff"
      },
      "execution_count": null,
      "outputs": [
        {
          "output_type": "stream",
          "name": "stdout",
          "text": [
            "5\n",
            "2\n",
            "This is a string\n"
          ]
        }
      ]
    },
    {
      "cell_type": "markdown",
      "source": [
        "Type of variables"
      ],
      "metadata": {
        "id": "3ncZsNQqNhbc"
      }
    },
    {
      "cell_type": "code",
      "source": [
        "print(type(five))"
      ],
      "metadata": {
        "colab": {
          "base_uri": "https://localhost:8080/"
        },
        "id": "UYg8xJS4M1fQ",
        "outputId": "62c208db-37de-4ac4-a322-ff433a2f6972"
      },
      "execution_count": null,
      "outputs": [
        {
          "output_type": "stream",
          "name": "stdout",
          "text": [
            "<class 'int'>\n"
          ]
        }
      ]
    },
    {
      "cell_type": "markdown",
      "source": [
        "Taking inputs from users"
      ],
      "metadata": {
        "id": "x3s8ReS_N9iz"
      }
    },
    {
      "cell_type": "code",
      "source": [
        "num1 = input(\"Enter the number 01 - \")\n",
        "num2 = input(\"Enter the number 02 - \")\n",
        "print(num1+num2)\n"
      ],
      "metadata": {
        "colab": {
          "base_uri": "https://localhost:8080/"
        },
        "id": "wABd3_LANcA2",
        "outputId": "b07f7661-e1b8-47cc-dc64-f5d4a7a5ab7d"
      },
      "execution_count": null,
      "outputs": [
        {
          "output_type": "stream",
          "name": "stdout",
          "text": [
            "Enter the number 01 - 58\n",
            "Enter the number 02 - 552\n",
            "58552\n"
          ]
        }
      ]
    },
    {
      "cell_type": "markdown",
      "source": [
        "convert to int"
      ],
      "metadata": {
        "id": "FkXAmvFJQDuR"
      }
    },
    {
      "cell_type": "code",
      "source": [
        "num1 = int(input(\"Enter the number 01 - \"))\n",
        "num2 = int(input(\"Enter the number 02 - \"))\n",
        "print(num1+num2)"
      ],
      "metadata": {
        "colab": {
          "base_uri": "https://localhost:8080/"
        },
        "id": "WXT7EBjxOOCp",
        "outputId": "0f7b47d4-349d-45f6-e291-3fe86c512ad3"
      },
      "execution_count": null,
      "outputs": [
        {
          "output_type": "stream",
          "name": "stdout",
          "text": [
            "Enter the number 01 - 5\n",
            "Enter the number 02 - 3\n",
            "8\n"
          ]
        }
      ]
    },
    {
      "cell_type": "markdown",
      "source": [
        "Data Types"
      ],
      "metadata": {
        "id": "7q40W8xzQSX5"
      }
    },
    {
      "cell_type": "code",
      "source": [
        "integer_variable = 100\n",
        "floating_point_variable = 100.0\n",
        "string_variable = \"100\"\n",
        "\n",
        "print(type(integer_variable))\n",
        "print(type(floating_point_variable))\n",
        "print(type(string_variable))\n",
        "print(\"-----\")\n",
        "print(type(int(floating_point_variable)))\n",
        "print(type(float(integer_variable)))\n",
        "print(type(float(string_variable)))"
      ],
      "metadata": {
        "colab": {
          "base_uri": "https://localhost:8080/"
        },
        "id": "t_sLGOzVQKm4",
        "outputId": "b2b6962d-2cfa-4460-b9cc-fd475bc53541"
      },
      "execution_count": null,
      "outputs": [
        {
          "output_type": "stream",
          "name": "stdout",
          "text": [
            "<class 'int'>\n",
            "<class 'float'>\n",
            "<class 'str'>\n",
            "-----\n",
            "<class 'int'>\n",
            "<class 'float'>\n",
            "<class 'float'>\n"
          ]
        }
      ]
    },
    {
      "cell_type": "markdown",
      "source": [
        "#File Input And Output"
      ],
      "metadata": {
        "id": "74NrUAJAQYff"
      }
    },
    {
      "cell_type": "markdown",
      "source": [
        "Writing to a file"
      ],
      "metadata": {
        "id": "U_CbSOn3Qdgn"
      }
    },
    {
      "cell_type": "code",
      "source": [
        "my_file = open(\"output_file.txt\",'w')\n",
        "vars = \"This is a string\\n\"\n",
        "my_file.write(vars)\n",
        "var3 = 10\n",
        "\n",
        "my_file.write(str(var3))\n",
        "var4 = 20.0\n",
        "my_file.write(\"\\n\")\n",
        "my_file.write(str(var4))\n",
        "my_file.close()"
      ],
      "metadata": {
        "id": "HyjaNmIQQU9t"
      },
      "execution_count": null,
      "outputs": []
    },
    {
      "cell_type": "markdown",
      "source": [
        "Reading from a file"
      ],
      "metadata": {
        "id": "WoiDN0IfRKmP"
      }
    },
    {
      "cell_type": "code",
      "source": [
        "my_file = open(\"output_file.txt\",'r')\n",
        "content = my_file.read()\n",
        "print(content)\n",
        "my_file.close()"
      ],
      "metadata": {
        "colab": {
          "base_uri": "https://localhost:8080/"
        },
        "id": "uvChXqooQlqN",
        "outputId": "d4576a34-f70c-4023-83ac-0102e3788ec7"
      },
      "execution_count": null,
      "outputs": [
        {
          "output_type": "stream",
          "name": "stdout",
          "text": [
            "This is a string\n",
            "10\n",
            "20.0\n"
          ]
        }
      ]
    },
    {
      "cell_type": "markdown",
      "source": [
        "Reading line by line"
      ],
      "metadata": {
        "id": "KQR3_vTMSNyS"
      }
    },
    {
      "cell_type": "code",
      "source": [
        "my_file = open(\"output_file.txt\",'r')\n",
        "vars = my_file.readline()\n",
        "var5 = my_file.readline()\n",
        "var6 = my_file.readline()\n",
        "print(\"String: \", vars)\n",
        "print(\"Integer: \", var5)\n",
        "print(\"Float: \", var6)\n",
        "my_file.close()"
      ],
      "metadata": {
        "colab": {
          "base_uri": "https://localhost:8080/"
        },
        "id": "AGPwodDqRMdZ",
        "outputId": "7b14eacf-3093-4cc5-ffcb-f54dc4e5b890"
      },
      "execution_count": null,
      "outputs": [
        {
          "output_type": "stream",
          "name": "stdout",
          "text": [
            "String:  This is a string\n",
            "\n",
            "Integer:  10\n",
            "\n",
            "Float:  20.0\n"
          ]
        }
      ]
    },
    {
      "cell_type": "markdown",
      "source": [
        "#Arithmatic operations"
      ],
      "metadata": {
        "id": "hyEtZL1mTBzm"
      }
    },
    {
      "cell_type": "code",
      "source": [
        "a = 7\n",
        "b = 2\n",
        "\n",
        "# addition\n",
        "print ('Sum: ', a + b)\n",
        "\n",
        "# subtraction\n",
        "print ('Subtraction: ', a - b)\n",
        "\n",
        "# multiplication\n",
        "print ('Multiplication: ', a * b)\n",
        "\n",
        "# division\n",
        "print ('Division: ', a / b)\n",
        "\n",
        "# floor division\n",
        "print ('Floor Division: ', a // b)\n",
        "\n",
        "# modulo\n",
        "print ('Modulo: ', a % b)\n",
        "\n",
        "# a to the power b\n",
        "print ('Power: ', a ** b)"
      ],
      "metadata": {
        "colab": {
          "base_uri": "https://localhost:8080/"
        },
        "id": "fyoWXVhKSP9S",
        "outputId": "69ff1b87-f8e3-468b-b9bf-d0072dbd8b28"
      },
      "execution_count": null,
      "outputs": [
        {
          "output_type": "stream",
          "name": "stdout",
          "text": [
            "Sum:  9\n",
            "Subtraction:  5\n",
            "Multiplication:  14\n",
            "Division:  3.5\n",
            "Floor Division:  3\n",
            "Modulo:  1\n",
            "Power:  49\n"
          ]
        }
      ]
    },
    {
      "cell_type": "markdown",
      "source": [
        "Operator presendence"
      ],
      "metadata": {
        "id": "mTEHXm2zTluq"
      }
    },
    {
      "cell_type": "markdown",
      "source": [
        "P means parentheses\n",
        "E means exponent\n",
        "M means multiplication\n",
        "D means division\n",
        "A means addition\n",
        "S means Subtraction"
      ],
      "metadata": {
        "id": "DTo0O8RLTqrf"
      }
    },
    {
      "cell_type": "markdown",
      "source": [
        "#Lists"
      ],
      "metadata": {
        "id": "34aOF0v7T_1s"
      }
    },
    {
      "cell_type": "markdown",
      "source": [
        "Difference between lists in c++,c,java is we can have different data types in a single list"
      ],
      "metadata": {
        "id": "67IglYOTUTTv"
      }
    },
    {
      "cell_type": "code",
      "source": [
        "a = [ 1, 3 ,4, 6]\n",
        "print(a)\n",
        "print(type(a))"
      ],
      "metadata": {
        "colab": {
          "base_uri": "https://localhost:8080/"
        },
        "id": "hnFU5mtyTEiw",
        "outputId": "a0bf4fbf-a900-493c-ce65-b1dc6653f1bc"
      },
      "execution_count": null,
      "outputs": [
        {
          "output_type": "stream",
          "name": "stdout",
          "text": [
            "[1, 3, 4, 6]\n",
            "<class 'list'>\n"
          ]
        }
      ]
    },
    {
      "cell_type": "code",
      "source": [
        "thislist = [\"apple\", \"banana\", \"cherry\", \"apple\", \"cherry\"]\n",
        "print(thislist)\n",
        "print(len(thislist))"
      ],
      "metadata": {
        "colab": {
          "base_uri": "https://localhost:8080/"
        },
        "id": "YR9itKKVUQO0",
        "outputId": "f1fa2121-5d79-485f-cb4f-639664b53278"
      },
      "execution_count": null,
      "outputs": [
        {
          "output_type": "stream",
          "name": "stdout",
          "text": [
            "['apple', 'banana', 'cherry', 'apple', 'cherry']\n",
            "5\n"
          ]
        }
      ]
    },
    {
      "cell_type": "code",
      "source": [
        "list1 = [\"abc\", 34, True, 40, \"male\"]\n",
        "a = list1[1] + list1[2]\n",
        "print(a)\n",
        "\n",
        "a = list1[0] + list1[4]\n",
        "print(a)"
      ],
      "metadata": {
        "colab": {
          "base_uri": "https://localhost:8080/"
        },
        "id": "SaIE2BqqUo_G",
        "outputId": "400aa71a-331c-4fcf-c913-462930c6cb6a"
      },
      "execution_count": null,
      "outputs": [
        {
          "output_type": "stream",
          "name": "stdout",
          "text": [
            "35\n",
            "abcmale\n"
          ]
        }
      ]
    },
    {
      "cell_type": "markdown",
      "source": [
        "# Control Flow"
      ],
      "metadata": {
        "id": "G_Bn03MhQwaT"
      }
    },
    {
      "cell_type": "markdown",
      "source": [
        "## If Condition"
      ],
      "metadata": {
        "id": "NF05-9eXQzFD"
      }
    },
    {
      "cell_type": "code",
      "source": [
        "a = 200\n",
        "b = 33\n",
        "c = 500\n",
        "#c=50\n",
        "if a > b and c > a:\n",
        "  print(\"Both conditions are True\")\n",
        "else:\n",
        "  print(\"Both conditions are not True\")"
      ],
      "metadata": {
        "id": "f6iJkgI4Urw-",
        "colab": {
          "base_uri": "https://localhost:8080/"
        },
        "outputId": "5318a5e9-2245-443c-e71d-2ddb1297d080"
      },
      "execution_count": 1,
      "outputs": [
        {
          "output_type": "stream",
          "name": "stdout",
          "text": [
            "Both conditions are True\n"
          ]
        }
      ]
    },
    {
      "cell_type": "markdown",
      "source": [
        "## For Loop"
      ],
      "metadata": {
        "id": "SRDsGqv8SdjJ"
      }
    },
    {
      "cell_type": "code",
      "source": [
        "fruits = [\"a\",\"b\",\"c\",\"d\"]\n",
        "for x in fruits:\n",
        "  print(x)"
      ],
      "metadata": {
        "colab": {
          "base_uri": "https://localhost:8080/"
        },
        "id": "iFx8sZ_lSluH",
        "outputId": "847ca789-e630-45e9-dcae-985f49e86d50"
      },
      "execution_count": 3,
      "outputs": [
        {
          "output_type": "stream",
          "name": "stdout",
          "text": [
            "a\n",
            "b\n",
            "c\n",
            "d\n"
          ]
        }
      ]
    },
    {
      "cell_type": "markdown",
      "source": [
        "This is like the for each loop in c++,c#,js"
      ],
      "metadata": {
        "id": "SsLK8cXZSxWN"
      }
    },
    {
      "cell_type": "code",
      "source": [
        "for x in range(5,10):\n",
        "  print(x)"
      ],
      "metadata": {
        "colab": {
          "base_uri": "https://localhost:8080/"
        },
        "id": "CT76430TR6kb",
        "outputId": "9cd367fb-27a7-4e5a-a3aa-bac5dc67aa14"
      },
      "execution_count": 2,
      "outputs": [
        {
          "output_type": "stream",
          "name": "stdout",
          "text": [
            "5\n",
            "6\n",
            "7\n",
            "8\n",
            "9\n"
          ]
        }
      ]
    },
    {
      "cell_type": "markdown",
      "source": [
        "using range the step size also can be provided </br>\n",
        "for x in range(5,10,step_size):\n",
        "  print(x)"
      ],
      "metadata": {
        "id": "3VlMzQgpTGam"
      }
    },
    {
      "cell_type": "code",
      "source": [
        "for x in range(5,10,2):\n",
        "  print(x)"
      ],
      "metadata": {
        "colab": {
          "base_uri": "https://localhost:8080/"
        },
        "id": "lgonCI0STKKZ",
        "outputId": "685de449-a313-49a4-e35e-43efd1c17b92"
      },
      "execution_count": 5,
      "outputs": [
        {
          "output_type": "stream",
          "name": "stdout",
          "text": [
            "5\n",
            "7\n",
            "9\n"
          ]
        }
      ]
    },
    {
      "cell_type": "code",
      "source": [
        "for x in \"apple\":\n",
        "  print(x)"
      ],
      "metadata": {
        "colab": {
          "base_uri": "https://localhost:8080/"
        },
        "id": "-7IdtADqSkKQ",
        "outputId": "1763d541-fe1f-4613-cc68-a1166e871db3"
      },
      "execution_count": 4,
      "outputs": [
        {
          "output_type": "stream",
          "name": "stdout",
          "text": [
            "a\n",
            "p\n",
            "p\n",
            "l\n",
            "e\n"
          ]
        }
      ]
    },
    {
      "cell_type": "code",
      "source": [],
      "metadata": {
        "id": "0FlbV4kYS_gt"
      },
      "execution_count": null,
      "outputs": []
    }
  ]
}