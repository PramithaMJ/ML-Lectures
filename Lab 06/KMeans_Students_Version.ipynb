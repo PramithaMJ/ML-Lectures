{
  "cells": [
    {
      "cell_type": "markdown",
      "metadata": {
        "id": "aLstkBIpeb3i"
      },
      "source": [
        "\n",
        "\n",
        "\n",
        "\n",
        "\n",
        "\n",
        "\n",
        "\n",
        "\n",
        "\n",
        "\n",
        "\n",
        "\n",
        "# KMeans Clustering Example"
      ]
    },
    {
      "cell_type": "markdown",
      "metadata": {
        "id": "20FgqjJMesxF"
      },
      "source": [
        "## Part 1: Test with a Toy Dataset"
      ]
    },
    {
      "cell_type": "markdown",
      "metadata": {
        "id": "mwCzWZvHermL"
      },
      "source": [
        "Use make_blobs function from sklearn.datasets to create isotropic Gaussian blobs for clustering.\n",
        "\n",
        "Hint: https://scikit-learn.org/stable/modules/generated/sklearn.datasets.make_blobs.html\n",
        "\n",
        "Load other necessary libraries/packages for data visualization."
      ]
    },
    {
      "cell_type": "code",
      "execution_count": 1,
      "metadata": {
        "id": "1Vf_S1_jeR96"
      },
      "outputs": [],
      "source": [
        "# Load the required libraries\n",
        "import matplotlib.pyplot as plt\n",
        "from sklearn.datasets import make_blobs\n",
        "# Your code here"
      ]
    },
    {
      "cell_type": "code",
      "execution_count": 23,
      "metadata": {
        "id": "gOAXurrWfiWu"
      },
      "outputs": [],
      "source": [
        "# Create Dataset\n",
        "X, y = make_blobs(n_samples=400, centers=5, n_features=2,random_state=0,cluster_std=1.0)\n",
        "# Your code here"
      ]
    },
    {
      "cell_type": "code",
      "execution_count": 24,
      "metadata": {
        "id": "geReJeCCf2pS"
      },
      "outputs": [
        {
          "name": "stdout",
          "output_type": "stream",
          "text": [
            "[[-1.46779680e+00  6.75142339e+00]\n",
            " [-1.92213300e+00  1.75846174e+00]\n",
            " [ 1.92238694e+00  5.99872781e-01]\n",
            " [-1.57260797e+00  3.13838992e+00]\n",
            " [ 1.94472686e+00  1.91783637e+00]\n",
            " [-3.48785983e+00  8.23695907e+00]\n",
            " [-1.81874138e+00  2.15639005e+00]\n",
            " [ 8.97912262e-01  5.85371409e-01]\n",
            " [ 8.08035174e-02  4.69068983e+00]\n",
            " [-2.49165440e-01  5.14815030e+00]\n",
            " [-1.06948841e+00  1.95327025e+00]\n",
            " [ 9.72145049e+00 -6.34988051e-01]\n",
            " [ 1.18454506e+00  5.28042636e+00]\n",
            " [ 2.34161121e+00  1.50650749e+00]\n",
            " [-8.65523345e-01  7.80121774e+00]\n",
            " [-1.71755751e+00  2.52303275e+00]\n",
            " [-2.58153248e+00  3.73813010e+00]\n",
            " [-5.71795042e-01  7.45345106e+00]\n",
            " [ 1.02202860e+00  4.11660348e+00]\n",
            " [ 1.59973502e+00  9.15142819e-01]\n",
            " [-1.47740903e+00  3.41171904e+00]\n",
            " [ 1.05472929e-01  3.72493766e+00]\n",
            " [ 1.92352205e+00  4.14877723e+00]\n",
            " [ 2.68049897e+00 -7.04393996e-01]\n",
            " [ 9.49276477e+00 -1.93810669e+00]\n",
            " [-1.90831209e+00  8.01127897e+00]\n",
            " [ 9.80230045e+00 -1.90854100e+00]\n",
            " [-2.51241475e+00  1.44604725e+00]\n",
            " [-3.98309949e-01  3.41388321e+00]\n",
            " [-2.17919761e+00  2.39669295e+00]\n",
            " [ 2.45830537e-02  2.96215652e+00]\n",
            " [ 1.32967014e+00 -4.85700295e-01]\n",
            " [ 1.09932252e+00  5.51681884e-01]\n",
            " [-7.53651036e-01  1.73400162e+00]\n",
            " [ 1.15369622e+00  3.90200639e+00]\n",
            " [ 3.35941485e+00  5.24826681e+00]\n",
            " [-7.82089349e-01  7.46521757e+00]\n",
            " [ 2.96544643e+00  1.21488188e+00]\n",
            " [-2.17841228e+00  7.65687092e+00]\n",
            " [ 8.47011382e+00 -2.79550731e+00]\n",
            " [-1.62340289e+00  6.60926382e+00]\n",
            " [-7.04943883e-01  8.27450297e+00]\n",
            " [ 5.14470507e-01  9.60925654e-01]\n",
            " [ 7.44899855e+00 -2.02756572e+00]\n",
            " [-1.79463755e+00  1.78987093e+00]\n",
            " [-1.51908929e-01  7.60124421e+00]\n",
            " [-1.47251471e+00  7.53321029e+00]\n",
            " [-2.76525282e-01  5.08127768e+00]\n",
            " [ 2.74904067e+00  7.38090222e-01]\n",
            " [ 2.97612635e+00  1.21639131e+00]\n",
            " [ 3.20759909e+00  1.97728225e+00]\n",
            " [ 2.15299249e+00  1.48061734e+00]\n",
            " [ 4.66617897e-01  3.86571303e+00]\n",
            " [-2.21474162e+00  1.70380486e+00]\n",
            " [ 1.24190326e+00 -5.68760668e-01]\n",
            " [ 8.88638436e+00 -2.84146236e+00]\n",
            " [ 1.44796828e+00  7.76153535e+00]\n",
            " [ 3.77282323e-02  6.32846162e+00]\n",
            " [-6.03252976e-02  3.77043420e+00]\n",
            " [-1.99576820e+00  7.16440976e-01]\n",
            " [ 8.61679154e+00 -5.16572413e+00]\n",
            " [ 2.32978388e+00  6.74857694e-03]\n",
            " [ 8.74055242e+00 -1.24041989e+00]\n",
            " [ 7.32755213e+00 -3.24395312e+00]\n",
            " [-7.79715679e-01  1.72893731e+00]\n",
            " [ 1.92569089e+00  4.39133857e+00]\n",
            " [-2.39452688e-02  2.75901623e+00]\n",
            " [-1.50990122e+00  7.65321523e+00]\n",
            " [-6.68771735e-02  7.20355626e+00]\n",
            " [-7.05318301e-01  2.92317491e+00]\n",
            " [-6.53928268e-01  4.76656958e+00]\n",
            " [ 2.50904929e+00  5.77314610e+00]\n",
            " [-3.28279460e+00  3.36881672e+00]\n",
            " [ 1.84070628e+00  3.56162231e+00]\n",
            " [ 9.08028473e-01  6.01713005e+00]\n",
            " [-3.61784268e+00  8.69951232e+00]\n",
            " [ 9.60383197e+00 -1.38192315e+00]\n",
            " [ 3.40424000e-01  4.98022062e+00]\n",
            " [ 7.58502518e+00 -2.44363561e+00]\n",
            " [ 1.18987716e-01  1.08644226e+00]\n",
            " [ 1.00286509e+01 -1.46376221e+00]\n",
            " [ 8.51538435e+00 -2.38125372e+00]\n",
            " [-2.13845888e-01  6.83924738e+00]\n",
            " [ 2.03094140e+00  1.59632751e-01]\n",
            " [ 8.34051430e+00 -3.59423797e+00]\n",
            " [ 2.69539905e+00 -7.19292384e-01]\n",
            " [-3.78246824e+00  1.89537542e+00]\n",
            " [ 9.72574430e+00 -2.23327348e+00]\n",
            " [-6.57940526e-01  3.19475417e+00]\n",
            " [ 1.12031365e+00  5.75806083e+00]\n",
            " [ 8.48458596e+00 -1.23653125e+00]\n",
            " [ 1.89760051e+00  3.15438716e+00]\n",
            " [ 1.70127361e+00 -4.77287633e-01]\n",
            " [-4.18607625e+00  3.52420179e+00]\n",
            " [ 6.34478531e-02  5.42080362e+00]\n",
            " [-1.49027560e+00  9.35372119e+00]\n",
            " [ 7.62410612e-01  1.16471453e+00]\n",
            " [-1.61283478e+00  3.11217520e+00]\n",
            " [-1.96853327e-01  6.24740851e+00]\n",
            " [-1.02441221e+00  8.16508300e+00]\n",
            " [ 7.26903949e+00 -1.95429310e+00]\n",
            " [-2.05388228e+00  6.71714809e+00]\n",
            " [-1.08432720e+00  7.93178137e+00]\n",
            " [-2.09621607e+00  3.18778662e+00]\n",
            " [ 1.70536064e+00  4.43277024e+00]\n",
            " [-2.92947399e+00  6.94648866e+00]\n",
            " [-1.90680874e+00  7.32122605e+00]\n",
            " [-1.00613781e+00  6.94673976e+00]\n",
            " [ 1.10318217e+00  4.70577669e+00]\n",
            " [-3.52995502e-01  9.21042408e+00]\n",
            " [ 1.99364112e+00  7.90358384e-01]\n",
            " [ 1.40285894e+00  5.06710285e-01]\n",
            " [ 1.06844273e+01 -1.54536580e+00]\n",
            " [-1.84891333e+00  9.38770320e+00]\n",
            " [-2.42741371e+00  9.13688809e+00]\n",
            " [-3.39637332e-01  3.84220272e+00]\n",
            " [ 2.81702219e-01  4.15415279e+00]\n",
            " [ 9.31302194e+00 -3.89816433e+00]\n",
            " [ 1.25185786e+00  2.08113882e-01]\n",
            " [ 1.04278730e+00  4.60625923e+00]\n",
            " [ 9.45718070e+00 -2.71665938e+00]\n",
            " [-2.97343871e+00  3.71818021e+00]\n",
            " [ 9.99323894e+00 -3.43407584e+00]\n",
            " [ 8.09562625e+00 -3.47136592e+00]\n",
            " [-2.65421869e+00  7.24540237e+00]\n",
            " [-2.26629765e+00  7.75760526e+00]\n",
            " [ 1.64856484e+00  4.71124916e+00]\n",
            " [-2.43566726e+00  2.49356464e+00]\n",
            " [ 4.72329124e-01  1.50804304e+00]\n",
            " [-3.81552405e+00  3.16936668e+00]\n",
            " [-2.38805823e+00  8.62041754e+00]\n",
            " [ 7.21009050e-01 -4.49053846e-01]\n",
            " [ 1.11228465e+01 -2.54533628e+00]\n",
            " [ 8.72754324e+00 -4.21575547e+00]\n",
            " [ 7.48740670e-01  2.55579434e+00]\n",
            " [-5.95055639e-01  3.25784725e+00]\n",
            " [ 1.36321767e+00  2.43404071e+00]\n",
            " [ 1.07626112e+01 -1.80986588e+00]\n",
            " [ 2.06354004e-01  4.84303652e+00]\n",
            " [-7.94473862e-01  6.00571960e+00]\n",
            " [-2.59618120e+00  7.07388663e+00]\n",
            " [ 8.82195217e+00 -2.06548165e+00]\n",
            " [-1.96609354e+00  3.09922069e+00]\n",
            " [ 2.47034915e+00  4.09862906e+00]\n",
            " [-1.38016441e+00  8.24022183e+00]\n",
            " [ 9.20597960e+00 -3.64956549e+00]\n",
            " [ 2.20656076e+00  5.50616718e+00]\n",
            " [-2.99061197e+00  6.53221726e+00]\n",
            " [-1.32760382e+00  2.86727872e+00]\n",
            " [-7.30000112e-01  6.25456272e+00]\n",
            " [-1.21125005e+00  8.60336242e+00]\n",
            " [ 7.63000907e-01  7.79086459e+00]\n",
            " [ 8.41428282e+00 -3.23011178e+00]\n",
            " [ 8.68185254e+00 -1.20675044e+00]\n",
            " [-1.80256540e+00  7.36482236e+00]\n",
            " [ 1.42013331e+00  4.63746165e+00]\n",
            " [ 7.67141916e+00 -3.21835057e+00]\n",
            " [ 8.99085090e-01  1.67886176e+00]\n",
            " [-2.52794495e+00  7.25002881e+00]\n",
            " [ 9.83726375e+00 -3.61572192e+00]\n",
            " [ 2.82705807e+00  1.72116781e+00]\n",
            " [-1.48827346e+00  1.26116716e+00]\n",
            " [-1.71198574e-01  3.86596728e+00]\n",
            " [ 9.59041584e+00 -1.81112901e+00]\n",
            " [-2.79868512e+00  8.25277884e+00]\n",
            " [-2.21091491e+00  4.57743306e+00]\n",
            " [ 4.31457647e+00  8.55406508e-01]\n",
            " [ 2.74508569e+00  2.19950989e+00]\n",
            " [-1.05318608e+00  6.05389716e+00]\n",
            " [ 9.56015970e+00 -4.65176390e+00]\n",
            " [ 6.64717546e-01  4.35995267e+00]\n",
            " [ 8.76573761e+00 -3.38304973e+00]\n",
            " [ 8.57692856e+00 -2.62156672e+00]\n",
            " [-2.07767137e-01  2.03546344e+00]\n",
            " [-1.06377368e+00  3.19697803e+00]\n",
            " [-1.93555481e+00  7.71798547e+00]\n",
            " [-2.48740839e+00  2.12476490e+00]\n",
            " [-2.27819106e+00  7.48551665e+00]\n",
            " [ 1.45795145e+00  6.59741930e-01]\n",
            " [-1.71195768e+00  2.11023377e+00]\n",
            " [ 9.21578569e+00 -2.72238668e+00]\n",
            " [ 8.90255121e+00 -3.27678542e+00]\n",
            " [ 1.02097009e+01 -2.36626480e+00]\n",
            " [-8.28446864e-01  2.92165315e+00]\n",
            " [-1.64064477e+00  4.78931696e+00]\n",
            " [-3.36997356e+00  2.43990826e+00]\n",
            " [-1.83601846e+00  2.68441560e+00]\n",
            " [-6.85272749e-01  2.66842368e+00]\n",
            " [-1.65701097e+00  3.01183549e+00]\n",
            " [ 3.01937418e-01  4.33561789e+00]\n",
            " [-6.64308002e-01  2.62263168e-01]\n",
            " [-1.88879762e-01  5.20461381e+00]\n",
            " [ 8.92700576e+00 -3.12580594e+00]\n",
            " [ 5.88943261e-01  4.00148458e+00]\n",
            " [-6.58375954e-01  7.47160121e+00]\n",
            " [-1.45115262e+00  7.72557724e+00]\n",
            " [ 3.24602470e+00  2.84942165e+00]\n",
            " [ 9.24983210e+00 -1.25197490e+00]\n",
            " [-2.12555795e+00  1.80198528e+00]\n",
            " [ 2.72165060e+00  4.36943873e-01]\n",
            " [-2.02972071e+00  5.33033594e+00]\n",
            " [ 6.28357929e-01  4.46013630e+00]\n",
            " [ 2.84382904e+00  5.20983199e+00]\n",
            " [-9.63976104e-01  9.57812880e+00]\n",
            " [ 3.03809631e-01  3.94423417e+00]\n",
            " [ 1.44193252e+00  2.76754364e+00]\n",
            " [ 8.77423857e+00 -2.30981840e+00]\n",
            " [-3.54331064e+00  2.37842763e+00]\n",
            " [ 2.19722068e+00  5.78335243e-01]\n",
            " [ 9.49886386e+00 -1.88145752e+00]\n",
            " [-4.27933977e-01  9.19540856e+00]\n",
            " [ 1.91931782e+00  2.03455502e+00]\n",
            " [-1.88033576e+00  1.30140807e+00]\n",
            " [ 1.27450825e+00  5.63017322e+00]\n",
            " [ 8.84843309e-02  2.32299086e+00]\n",
            " [-7.55498065e-01  3.94732109e+00]\n",
            " [ 1.59167155e+00  1.37914513e+00]\n",
            " [-1.89159756e+00  3.07458612e+00]\n",
            " [-2.46619429e+00  7.53049638e+00]\n",
            " [ 2.46452227e+00  6.19967650e+00]\n",
            " [ 9.16891172e+00 -3.31917157e+00]\n",
            " [-1.06491658e+00  9.50640305e+00]\n",
            " [ 1.55286090e+00  4.09548857e+00]\n",
            " [ 7.91347448e+00 -2.37257044e+00]\n",
            " [-1.18799989e+00  4.93892582e+00]\n",
            " [ 4.65464941e-01  3.12315514e+00]\n",
            " [ 2.91209813e+00  2.46638067e-01]\n",
            " [ 1.67038771e+00  9.92015249e-01]\n",
            " [-1.62372165e-01  2.22843308e+00]\n",
            " [ 1.05383330e+01 -2.11967261e+00]\n",
            " [ 1.74625455e+00 -7.78340146e-01]\n",
            " [ 4.78237628e-01  6.23331938e+00]\n",
            " [-1.23962788e+00  8.36246422e+00]\n",
            " [ 2.84159548e+00  4.31244563e-01]\n",
            " [ 8.37585428e+00 -1.01869926e+00]\n",
            " [ 2.03824711e+00  1.27681540e+00]\n",
            " [ 1.33263648e+00  5.01036050e+00]\n",
            " [-1.70205982e+00  8.23872456e+00]\n",
            " [ 9.17155794e+00 -2.31189024e+00]\n",
            " [-2.88089030e+00  6.26769229e+00]\n",
            " [-1.63290120e+00  7.39162392e+00]\n",
            " [ 4.35918422e+00 -1.62352163e-01]\n",
            " [ 8.76789689e+00 -3.14696117e+00]\n",
            " [ 9.86770099e-01  6.08965782e+00]\n",
            " [-1.97730043e+00  8.03201742e+00]\n",
            " [ 3.41947985e-01  3.94104616e+00]\n",
            " [ 2.05817174e-01  3.60238337e+00]\n",
            " [ 1.13121750e+00  4.68194985e+00]\n",
            " [ 1.35269561e+00  3.20438654e+00]\n",
            " [ 9.25839751e+00 -1.50976369e+00]\n",
            " [ 1.00459500e+01 -3.99276791e+00]\n",
            " [ 2.48152625e+00  1.57457169e+00]\n",
            " [-3.11513311e-01  9.24778772e+00]\n",
            " [ 1.74438135e+00  9.95063826e-01]\n",
            " [ 8.77817554e-01  3.64030904e+00]\n",
            " [-1.99374956e+00  1.50097615e+00]\n",
            " [ 9.47122250e+00 -1.24923441e+00]\n",
            " [ 1.63123797e-01  2.57750473e+00]\n",
            " [ 2.33519212e+00  7.99513270e-01]\n",
            " [-6.51071252e-01  2.80277479e+00]\n",
            " [ 1.92156596e+00  1.97540747e+00]\n",
            " [-9.44825430e-02  5.35823905e+00]\n",
            " [-2.33852106e-02  7.90031612e+00]\n",
            " [ 1.14294357e+00  4.93881876e+00]\n",
            " [-1.24646231e+00  1.92475865e+00]\n",
            " [ 8.50755302e+00 -1.77538266e+00]\n",
            " [-7.22828865e-02  2.88376939e+00]\n",
            " [-3.62150708e+00  3.04160418e+00]\n",
            " [-2.04442306e+00  1.93905240e+00]\n",
            " [ 2.11968664e-01  3.91227665e+00]\n",
            " [ 9.23748714e+00  4.95757277e-02]\n",
            " [ 2.10290600e+00  3.22385582e+00]\n",
            " [-1.57671974e+00  4.95740592e+00]\n",
            " [ 5.41116527e-01  6.15305106e+00]\n",
            " [ 2.31515256e-01  3.47734879e+00]\n",
            " [ 2.01598470e+00 -2.70429838e-01]\n",
            " [ 2.21177406e+00  1.12984470e+00]\n",
            " [ 1.68608568e+00  6.58284482e-01]\n",
            " [ 2.57854418e+00  7.26117329e-01]\n",
            " [-1.30438880e+00  7.83407497e+00]\n",
            " [-1.46520534e+00  8.28085327e+00]\n",
            " [ 4.01117983e+00  1.28775698e+00]\n",
            " [-8.93498082e-01  8.45234657e+00]\n",
            " [ 3.15492712e+00  1.55292739e+00]\n",
            " [ 2.54900930e+00  7.81559721e-01]\n",
            " [-3.22500983e+00  3.30516274e+00]\n",
            " [ 1.65581849e+00  1.26771955e+00]\n",
            " [ 8.35414177e+00 -2.13841577e+00]\n",
            " [-9.48382515e-01  3.26753672e+00]\n",
            " [-7.60240832e-01  3.27417508e+00]\n",
            " [ 7.82831501e+00 -3.54171262e+00]\n",
            " [ 1.06010379e+01 -2.43245111e+00]\n",
            " [ 7.64083191e+00 -2.39830378e+00]\n",
            " [-3.29544246e+00  3.27336405e+00]\n",
            " [-6.37627769e-01  4.09104705e+00]\n",
            " [ 1.45895348e+00  8.45096364e-01]\n",
            " [ 9.77130761e+00 -2.35736186e+00]\n",
            " [ 1.59034945e+00  5.22599400e+00]\n",
            " [ 1.21230919e-01  3.08211002e+00]\n",
            " [-1.59570643e+00  7.25419154e+00]\n",
            " [ 1.37227679e+00  3.21072582e+00]\n",
            " [ 1.41783050e+00  5.00391846e-01]\n",
            " [-1.03477573e+00  6.62688636e+00]\n",
            " [ 1.73730780e+00  4.42546234e+00]\n",
            " [ 1.33566313e+00  8.46706714e-02]\n",
            " [ 3.54975207e+00 -1.17232137e+00]\n",
            " [ 2.16429987e+00  4.62072994e+00]\n",
            " [-1.35759306e-02  3.47101433e+00]\n",
            " [ 8.33427364e+00 -1.31414863e+00]\n",
            " [-2.16626054e+00  8.08795664e+00]\n",
            " [ 1.02102468e+00  1.57925818e+00]\n",
            " [ 1.13900462e+01 -3.94204803e+00]\n",
            " [ 9.28441713e-01  1.66985907e-01]\n",
            " [ 1.11082127e+00  4.87613967e-01]\n",
            " [ 1.37861172e+00  3.61897724e+00]\n",
            " [ 9.88518240e+00 -3.67266635e+00]\n",
            " [ 1.00859293e+01 -1.74391024e+00]\n",
            " [-1.54258612e+00  3.07881043e+00]\n",
            " [ 2.74680627e+00  1.59241280e+00]\n",
            " [ 2.85942078e+00  2.95602827e+00]\n",
            " [ 1.10282414e+01 -2.46415805e+00]\n",
            " [ 5.62651098e-01  3.55633252e+00]\n",
            " [-6.68980089e-01  4.05898413e+00]\n",
            " [ 2.15504965e+00  4.12386249e+00]\n",
            " [-1.96782665e+00  2.63752677e+00]\n",
            " [ 8.56833386e+00 -1.65119478e+00]\n",
            " [-3.61242959e+00  7.85579420e+00]\n",
            " [-2.49800858e+00  3.23269947e+00]\n",
            " [ 1.01001416e+00  2.10880895e+00]\n",
            " [-1.35874518e+00  6.17476020e+00]\n",
            " [ 7.08266708e-01  5.10624372e+00]\n",
            " [-1.37930979e+00  8.96853990e+00]\n",
            " [-3.20005988e+00  7.17556829e+00]\n",
            " [ 7.77085864e+00 -4.10883658e+00]\n",
            " [-2.19262427e+00  8.07356316e+00]\n",
            " [-1.33863778e+00  9.20305726e+00]\n",
            " [ 1.35056725e+00  1.84092438e+00]\n",
            " [-1.71828866e+00  7.61872855e+00]\n",
            " [-2.19320282e-01  7.76317301e+00]\n",
            " [ 1.42717996e+00  4.16636541e-01]\n",
            " [ 9.34784162e+00 -3.40826869e+00]\n",
            " [ 1.31570453e+00  2.44067826e+00]\n",
            " [-2.58046743e+00  5.86683533e+00]\n",
            " [-2.94214920e-01  5.27318404e+00]\n",
            " [-1.47086146e+00  6.92238080e+00]\n",
            " [-9.59613735e-01  2.69520716e+00]\n",
            " [ 1.41164912e+00 -1.32573949e+00]\n",
            " [-7.12384191e-01  2.97680785e+00]\n",
            " [ 9.28360452e+00 -1.61113586e+00]\n",
            " [-1.73380769e+00  3.79806117e+00]\n",
            " [ 2.57915855e+00  9.86085747e-01]\n",
            " [ 2.57633240e+00  3.21875690e-01]\n",
            " [ 8.66408264e-01  3.90847306e-01]\n",
            " [ 1.17704556e+01 -4.57649127e+00]\n",
            " [ 2.45431387e+00 -1.87492910e+00]\n",
            " [-7.49565500e-01  8.88343217e+00]\n",
            " [-8.83589548e-01  1.34725885e+00]\n",
            " [-1.13310790e+00  7.45631245e+00]\n",
            " [ 6.31206612e-01  4.04343777e-01]\n",
            " [ 9.48087850e-01  4.73211920e+00]\n",
            " [ 9.99635570e+00 -2.30655750e+00]\n",
            " [-1.15607901e+00  3.05994407e+00]\n",
            " [ 2.01309607e+00  6.10776468e-01]\n",
            " [-2.29104794e+00  1.48009079e+00]\n",
            " [ 6.89717142e-02  4.35573272e+00]\n",
            " [-3.05787656e-01  7.56786527e+00]\n",
            " [-7.26339210e-01  2.99614244e+00]\n",
            " [ 9.94382566e+00 -3.03867532e+00]\n",
            " [ 1.02141728e+01 -1.92596554e+00]\n",
            " [ 1.06962387e+01 -1.93508304e+00]\n",
            " [-1.47971437e-01  9.13348199e+00]\n",
            " [ 5.73093132e-01  5.52623240e+00]\n",
            " [-2.00655983e+00  3.53824056e+00]\n",
            " [ 1.28933778e+00  3.44969159e+00]\n",
            " [-6.90915246e-03  4.63747157e+00]\n",
            " [-4.58394614e-01  2.46449646e+00]\n",
            " [-2.30953317e+00  2.80749296e+00]\n",
            " [ 8.90819999e+00 -4.12249717e+00]\n",
            " [-1.92628156e+00  9.13330581e+00]\n",
            " [ 9.50884182e-01  9.49828739e-01]\n",
            " [-5.14987514e-01  4.74317903e+00]\n",
            " [-5.83857926e-01  1.78205094e-01]\n",
            " [-6.43135691e-01  8.73101600e+00]\n",
            " [ 4.21850347e+00  2.23419161e+00]\n",
            " [ 8.82508985e+00 -2.98050755e+00]\n",
            " [ 1.02950458e+01 -2.88371030e+00]\n",
            " [-1.80257455e+00  2.20815430e+00]\n",
            " [ 1.51240605e+00  1.31371371e+00]\n",
            " [-1.70058471e-01  5.27627535e+00]\n",
            " [ 8.84859191e+00 -3.16113422e+00]\n",
            " [ 2.11567076e+00  3.06896151e+00]\n",
            " [ 2.89921211e+00  5.78430212e+00]\n",
            " [ 1.15044393e-01  6.21385228e+00]\n",
            " [-5.97398902e-01  3.50010685e+00]\n",
            " [ 1.93710348e+00  2.17485456e-01]\n",
            " [ 9.75015358e+00 -2.18272004e+00]\n",
            " [ 9.21466866e+00 -2.64871272e+00]\n",
            " [ 8.34046617e+00 -1.08785024e+00]\n",
            " [-8.96475664e-01  8.21469555e+00]\n",
            " [ 9.50807674e+00 -1.99016213e-01]]\n"
          ]
        }
      ],
      "source": [
        "# Print the generated data (features)\n",
        "print(X)\n",
        "# Your code here"
      ]
    },
    {
      "cell_type": "code",
      "execution_count": 25,
      "metadata": {
        "id": "6QZc7lZOgE7-"
      },
      "outputs": [
        {
          "name": "stdout",
          "output_type": "stream",
          "text": [
            "[3 2 1 2 1 3 2 1 0 0 2 4 0 1 3 2 2 3 0 1 2 0 0 1 4 3 4 2 2 2 1 1 1 2 0 0 3\n",
            " 1 3 4 3 3 1 4 2 3 3 0 1 1 1 1 0 2 1 4 3 3 2 2 4 1 4 4 2 0 0 3 3 2 0 0 2 0\n",
            " 0 3 4 0 4 1 4 4 3 1 4 1 2 4 2 0 4 1 1 2 0 3 1 2 0 3 4 3 3 2 0 3 3 3 0 3 1\n",
            " 1 4 3 3 0 0 4 1 0 4 2 4 4 3 3 0 2 1 2 3 1 4 4 1 2 1 4 0 3 3 4 2 0 3 4 0 3\n",
            " 2 0 3 3 4 4 3 0 4 1 3 4 1 2 0 4 3 2 1 1 3 4 0 4 4 2 2 3 2 3 1 2 4 4 4 2 3\n",
            " 2 2 2 2 0 2 0 4 0 3 3 0 4 2 1 2 0 0 3 0 0 4 2 1 4 3 1 2 0 0 2 1 2 3 0 4 3\n",
            " 0 4 2 0 1 1 2 4 1 0 3 1 4 1 0 3 4 3 3 1 4 0 3 0 2 0 0 4 4 1 3 1 0 2 4 0 1\n",
            " 2 1 0 3 0 2 4 0 2 2 2 4 0 0 0 0 1 1 1 1 3 3 1 3 1 1 2 1 4 2 2 4 4 4 2 0 1\n",
            " 4 0 2 3 0 1 3 0 1 1 0 2 4 3 1 4 1 1 0 4 4 2 1 0 4 0 2 0 2 4 3 2 1 3 0 3 3\n",
            " 4 3 3 1 3 3 1 4 1 3 0 3 2 1 2 4 2 1 1 1 4 1 3 2 3 1 0 4 2 1 2 0 3 2 4 4 4\n",
            " 3 0 2 0 2 2 2 4 3 1 0 2 3 1 4 4 2 1 3 4 0 0 0 2 1 4 4 4 3 4]\n"
          ]
        }
      ],
      "source": [
        "# Print the generated labels\n",
        "print(y)\n",
        "# Your code here"
      ]
    },
    {
      "cell_type": "code",
      "execution_count": 26,
      "metadata": {
        "id": "d8-GvgX8gO6H"
      },
      "outputs": [
        {
          "data": {
            "text/plain": [
              "<matplotlib.collections.PathCollection at 0x1f034e744f0>"
            ]
          },
          "execution_count": 26,
          "metadata": {},
          "output_type": "execute_result"
        },
        {
          "data": {
            "image/png": "[encoded data removed]",
            "text/plain": [
              "<Figure size 640x480 with 1 Axes>"
            ]
          },
          "metadata": {},
          "output_type": "display_data"
        }
      ],
      "source": [
        "# Plot the generated dataset\n",
        "plt.scatter(X[:,0], X[:,1], c=y)\n",
        "\n",
        "# Your code here"
      ]
    },
    {
      "cell_type": "markdown",
      "metadata": {
        "id": "r8v2Kjgui_e_"
      },
      "source": [
        "## KNN Model Implementation"
      ]
    },
    {
      "cell_type": "markdown",
      "metadata": {
        "id": "D_iTv8L5jIwX"
      },
      "source": [
        "Cluster the dataset that you have generated using functionalities provided in Scikit-Learn library.\n",
        "\n",
        "Hint: https://scikit-learn.org/stable/modules/generated/sklearn.cluster.KMeans.html\n",
        "\n",
        "Have a look at the parameters that provided with the KNN models.\n",
        "\n"
      ]
    },
    {
      "cell_type": "code",
      "execution_count": 18,
      "metadata": {
        "id": "u4ZxIBuYgg21"
      },
      "outputs": [],
      "source": [
        "# Implement the model\n",
        "from sklearn.cluster import KMeans\n",
        "\n",
        "# Your code here"
      ]
    },
    {
      "cell_type": "code",
      "execution_count": 21,
      "metadata": {
        "id": "pEt_7KxXkl8x"
      },
      "outputs": [
        {
          "ename": "AttributeError",
          "evalue": "type object 'KMeans' has no attribute 'cluster_centers_'",
          "output_type": "error",
          "traceback": [
            "\u001b[1;31m---------------------------------------------------------------------------\u001b[0m",
            "\u001b[1;31mAttributeError\u001b[0m                            Traceback (most recent call last)",
            "Cell \u001b[1;32mIn[21], line 3\u001b[0m\n\u001b[0;32m      1\u001b[0m \u001b[38;5;66;03m# Visualize the detected clusters and cluster centers using matplotlib\u001b[39;00m\n\u001b[0;32m      2\u001b[0m \u001b[38;5;66;03m# plot the centroids\u001b[39;00m\n\u001b[1;32m----> 3\u001b[0m plt\u001b[38;5;241m.\u001b[39mscatter(\u001b[43mKMeans\u001b[49m\u001b[38;5;241;43m.\u001b[39;49m\u001b[43mcluster_centers_\u001b[49m[:, \u001b[38;5;241m0\u001b[39m], KMeans\u001b[38;5;241m.\u001b[39mcluster_centers_[:, \u001b[38;5;241m1\u001b[39m], c\u001b[38;5;241m=\u001b[39m\u001b[38;5;124m'\u001b[39m\u001b[38;5;124mred\u001b[39m\u001b[38;5;124m'\u001b[39m, marker\u001b[38;5;241m=\u001b[39m\u001b[38;5;124m'\u001b[39m\u001b[38;5;124mx\u001b[39m\u001b[38;5;124m'\u001b[39m)\n",
            "\u001b[1;31mAttributeError\u001b[0m: type object 'KMeans' has no attribute 'cluster_centers_'"
          ]
        }
      ],
      "source": [
        "# Visualize the detected clusters and cluster centers using matplotlib\n",
        "# plot the centroids\n",
        "plt.scatter(KMeans.cluster_centers_[:, 0], KMeans.cluster_centers_[:, 1], c='red', marker='x')\n",
        "\n",
        "# Your code here\n"
      ]
    },
    {
      "cell_type": "markdown",
      "metadata": {
        "id": "q14QiDltm4eQ"
      },
      "source": [
        "## Find the Optimal Number of Clusters"
      ]
    },
    {
      "cell_type": "markdown",
      "metadata": {
        "id": "a6Qgu2zCnE1_"
      },
      "source": [
        "### Elbow Method\n",
        "\n",
        "Try to implement KNN Clustering models for different number of clusters (e.g, 1 to 10) and calculated the \"Sum of Squared Distances (SSD)\" of the samples to their closest cluster center\n",
        "\n",
        "Hint: try **inertia_** attribute provided with k-means package."
      ]
    },
    {
      "cell_type": "code",
      "execution_count": null,
      "metadata": {
        "id": "b-qcKKUsmVLD"
      },
      "outputs": [],
      "source": [
        "# Perfom the elbow method to identify best number of clusters (k)\n",
        "# Visualize SSD values under each case\n",
        "\n",
        "# Your code here"
      ]
    },
    {
      "cell_type": "markdown",
      "metadata": {
        "id": "VJmzSqTo8OKO"
      },
      "source": [
        "**Q: What is the number of cluster you will use for the based on the observations in the aforementioned part?**\n",
        "\n",
        "A:"
      ]
    },
    {
      "cell_type": "markdown",
      "metadata": {
        "id": "39y4C0cdo1l9"
      },
      "source": [
        "## Example with Practical Dataset"
      ]
    },
    {
      "cell_type": "markdown",
      "metadata": {
        "id": "jBUrb_P3pSft"
      },
      "source": [
        "Download Califonid Housing Dataset from Kaggle using the following link.\n",
        "\n",
        "Dataset Link: https://www.kaggle.com/datasets/camnugent/california-housing-prices?resource=download\n",
        "\n",
        "Add the data into your runtime in Google Colab or provide the path if you are using Jupyter Notebook in your PC.\n",
        "\n",
        "Load only three data features as follows,\n",
        "\n",
        "* longitude: A value representing how far west a house is. Higher values represent houses that are further West.\n",
        "* latitude: A value representing how far north a house is. Higher values represent houses that are further north.\n",
        "* median_house_value: The median house price within a block measured in USD."
      ]
    },
    {
      "cell_type": "code",
      "execution_count": null,
      "metadata": {
        "id": "_-nfVTRMo7Sm"
      },
      "outputs": [],
      "source": [
        "# load the dataset as a pandas dataframe\n",
        "# Load only the following features:\n",
        "#       'longitude', 'latitude', 'median_house_value'\n",
        "\n",
        "# Your code here"
      ]
    },
    {
      "cell_type": "markdown",
      "metadata": {
        "id": "yH5w5oxkrfox"
      },
      "source": [
        "## Data Visualization\n",
        "\n",
        "Hint: Use Seaborn Scatter plot with hue = 'median_house_value' to plot the data.\n",
        "https://seaborn.pydata.org/generated/seaborn.scatterplot.html"
      ]
    },
    {
      "cell_type": "code",
      "execution_count": null,
      "metadata": {
        "id": "EqSy3bDAqQef"
      },
      "outputs": [],
      "source": [
        "# Use seaborn to visualize data\n",
        "\n",
        "# Your code here"
      ]
    },
    {
      "cell_type": "markdown",
      "metadata": {
        "id": "aTemZnmYsKja"
      },
      "source": [
        "## Data Preprocessing\n",
        "\n",
        "* Train/Test split the data\n",
        "* Scale the data\n",
        "\n",
        "Using scikit-learn functionalities."
      ]
    },
    {
      "cell_type": "code",
      "execution_count": null,
      "metadata": {
        "id": "6ogrMCMisFa6"
      },
      "outputs": [],
      "source": [
        "# Train / Test Split\n",
        "\n",
        "# Your code here"
      ]
    },
    {
      "cell_type": "code",
      "execution_count": null,
      "metadata": {
        "id": "-Ce90Ifjso3j"
      },
      "outputs": [],
      "source": [
        "# Scale\n",
        "\n",
        "# Your code here"
      ]
    },
    {
      "cell_type": "markdown",
      "metadata": {
        "id": "yweeS8b9tbcC"
      },
      "source": [
        "## Implement the Model"
      ]
    },
    {
      "cell_type": "code",
      "execution_count": null,
      "metadata": {
        "id": "AVOYS9setDIO"
      },
      "outputs": [],
      "source": [
        "# Model Implementation\n",
        "# Use k = 3 for the time being\n",
        "\n",
        "# Your code here"
      ]
    },
    {
      "cell_type": "code",
      "execution_count": null,
      "metadata": {
        "id": "VPt0bXWytfWz"
      },
      "outputs": [],
      "source": [
        "# Display the Clusters using seaborn\n",
        "\n",
        "# Your code here"
      ]
    },
    {
      "cell_type": "code",
      "execution_count": null,
      "metadata": {
        "id": "UVG2Q6UItv_Z"
      },
      "outputs": [],
      "source": [
        "# Use Seaborn Boxplots to visualize cluster distribution\n",
        "\n",
        "# Your code here"
      ]
    },
    {
      "cell_type": "markdown",
      "metadata": {
        "id": "W76bKMmeuKsM"
      },
      "source": [
        "## Calculate the Model Peformance\n",
        "\n",
        "Hint: https://scikit-learn.org/stable/modules/generated/sklearn.metrics.silhouette_score.html\n",
        "\n",
        "Silhouette Score: The best value is 1 and the worst value is -1. Values near 0 indicate overlapping clusters. Negative values generally indicate that a sample has been assigned to the wrong cluster, as a different cluster is more similar."
      ]
    },
    {
      "cell_type": "code",
      "execution_count": null,
      "metadata": {
        "id": "35be8RoHuIQb"
      },
      "outputs": [],
      "source": [
        "# Calculate the silhouette score\n",
        "\n",
        "# Your code here"
      ]
    },
    {
      "cell_type": "markdown",
      "metadata": {
        "id": "rDTtG4Rpuw6s"
      },
      "source": [
        "### Selection of Best Number of Clusters."
      ]
    },
    {
      "cell_type": "code",
      "execution_count": null,
      "metadata": {
        "id": "uGfqLBgSukVs"
      },
      "outputs": [],
      "source": [
        "# Use Elbow Method to Select the best number of clusters for the problem\n",
        "\n",
        "# Your code here"
      ]
    },
    {
      "cell_type": "code",
      "execution_count": null,
      "metadata": {
        "id": "t-bpjYYdvOMz"
      },
      "outputs": [],
      "source": [
        "# Display the outcome of the elbow method using matplotlib plot\n",
        "\n",
        "# Your code here"
      ]
    },
    {
      "cell_type": "code",
      "execution_count": null,
      "metadata": {
        "id": "zIw9iE43vSGj"
      },
      "outputs": [],
      "source": [
        "# Use the selcted k to train a new model\n",
        "# Model Implementation\n",
        "\n",
        "# Your code here"
      ]
    },
    {
      "cell_type": "code",
      "execution_count": null,
      "metadata": {
        "id": "HPoZ7SWLvfyA"
      },
      "outputs": [],
      "source": [
        "# Calculate the Silhoutte Score\n",
        "\n",
        "# Your code here"
      ]
    },
    {
      "cell_type": "markdown",
      "metadata": {
        "id": "D6oo7h9N9BCk"
      },
      "source": [
        "**Q: Have you noticed an improvement of the Silhoutte Score?**"
      ]
    },
    {
      "cell_type": "code",
      "execution_count": null,
      "metadata": {
        "id": "AMxfxVP9w1Lx"
      },
      "outputs": [],
      "source": [
        "# Display the Clusters using seaborn\n",
        "\n",
        "# Your code here"
      ]
    }
  ],
  "metadata": {
    "colab": {
      "provenance": []
    },
    "kernelspec": {
      "display_name": "Python 3",
      "name": "python3"
    },
    "language_info": {
      "codemirror_mode": {
        "name": "ipython",
        "version": 3
      },
      "file_extension": ".py",
      "mimetype": "text/x-python",
      "name": "python",
      "nbconvert_exporter": "python",
      "pygments_lexer": "ipython3",
      "version": "3.10.9"
    }
  },
  "nbformat": 4,
  "nbformat_minor": 0
}
